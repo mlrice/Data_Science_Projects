{
 "cells": [
  {
   "cell_type": "code",
   "execution_count": 2,
   "metadata": {},
   "outputs": [],
   "source": [
    "# import necessary libraries\n",
    "import sqlite3\n",
    "import pandas as pd\n",
    "import numpy as np\n",
    "import statsmodels.api as sm\n",
    "import matplotlib.pyplot as plt"
   ]
  },
  {
   "cell_type": "code",
   "execution_count": 3,
   "metadata": {},
   "outputs": [],
   "source": [
    "#import the dataset\n",
    "baseball = pd.read_csv(\"dodgers.csv\")"
   ]
  },
  {
   "cell_type": "code",
   "execution_count": 3,
   "metadata": {},
   "outputs": [
    {
     "data": {
      "text/html": [
       "<div>\n",
       "<style scoped>\n",
       "    .dataframe tbody tr th:only-of-type {\n",
       "        vertical-align: middle;\n",
       "    }\n",
       "\n",
       "    .dataframe tbody tr th {\n",
       "        vertical-align: top;\n",
       "    }\n",
       "\n",
       "    .dataframe thead th {\n",
       "        text-align: right;\n",
       "    }\n",
       "</style>\n",
       "<table border=\"1\" class=\"dataframe\">\n",
       "  <thead>\n",
       "    <tr style=\"text-align: right;\">\n",
       "      <th></th>\n",
       "      <th>month</th>\n",
       "      <th>day</th>\n",
       "      <th>attend</th>\n",
       "      <th>day_of_week</th>\n",
       "      <th>opponent</th>\n",
       "      <th>temp</th>\n",
       "      <th>skies</th>\n",
       "      <th>day_night</th>\n",
       "      <th>cap</th>\n",
       "      <th>shirt</th>\n",
       "      <th>fireworks</th>\n",
       "      <th>bobblehead</th>\n",
       "    </tr>\n",
       "  </thead>\n",
       "  <tbody>\n",
       "    <tr>\n",
       "      <th>0</th>\n",
       "      <td>APR</td>\n",
       "      <td>10</td>\n",
       "      <td>56000</td>\n",
       "      <td>Tuesday</td>\n",
       "      <td>Pirates</td>\n",
       "      <td>67</td>\n",
       "      <td>Clear</td>\n",
       "      <td>Day</td>\n",
       "      <td>NO</td>\n",
       "      <td>NO</td>\n",
       "      <td>NO</td>\n",
       "      <td>NO</td>\n",
       "    </tr>\n",
       "    <tr>\n",
       "      <th>1</th>\n",
       "      <td>APR</td>\n",
       "      <td>11</td>\n",
       "      <td>29729</td>\n",
       "      <td>Wednesday</td>\n",
       "      <td>Pirates</td>\n",
       "      <td>58</td>\n",
       "      <td>Cloudy</td>\n",
       "      <td>Night</td>\n",
       "      <td>NO</td>\n",
       "      <td>NO</td>\n",
       "      <td>NO</td>\n",
       "      <td>NO</td>\n",
       "    </tr>\n",
       "    <tr>\n",
       "      <th>2</th>\n",
       "      <td>APR</td>\n",
       "      <td>12</td>\n",
       "      <td>28328</td>\n",
       "      <td>Thursday</td>\n",
       "      <td>Pirates</td>\n",
       "      <td>57</td>\n",
       "      <td>Cloudy</td>\n",
       "      <td>Night</td>\n",
       "      <td>NO</td>\n",
       "      <td>NO</td>\n",
       "      <td>NO</td>\n",
       "      <td>NO</td>\n",
       "    </tr>\n",
       "    <tr>\n",
       "      <th>3</th>\n",
       "      <td>APR</td>\n",
       "      <td>13</td>\n",
       "      <td>31601</td>\n",
       "      <td>Friday</td>\n",
       "      <td>Padres</td>\n",
       "      <td>54</td>\n",
       "      <td>Cloudy</td>\n",
       "      <td>Night</td>\n",
       "      <td>NO</td>\n",
       "      <td>NO</td>\n",
       "      <td>YES</td>\n",
       "      <td>NO</td>\n",
       "    </tr>\n",
       "    <tr>\n",
       "      <th>4</th>\n",
       "      <td>APR</td>\n",
       "      <td>14</td>\n",
       "      <td>46549</td>\n",
       "      <td>Saturday</td>\n",
       "      <td>Padres</td>\n",
       "      <td>57</td>\n",
       "      <td>Cloudy</td>\n",
       "      <td>Night</td>\n",
       "      <td>NO</td>\n",
       "      <td>NO</td>\n",
       "      <td>NO</td>\n",
       "      <td>NO</td>\n",
       "    </tr>\n",
       "  </tbody>\n",
       "</table>\n",
       "</div>"
      ],
      "text/plain": [
       "  month  day  attend day_of_week opponent  temp   skies day_night cap shirt  \\\n",
       "0   APR   10   56000     Tuesday  Pirates    67  Clear        Day  NO    NO   \n",
       "1   APR   11   29729   Wednesday  Pirates    58  Cloudy     Night  NO    NO   \n",
       "2   APR   12   28328    Thursday  Pirates    57  Cloudy     Night  NO    NO   \n",
       "3   APR   13   31601      Friday   Padres    54  Cloudy     Night  NO    NO   \n",
       "4   APR   14   46549    Saturday   Padres    57  Cloudy     Night  NO    NO   \n",
       "\n",
       "  fireworks bobblehead  \n",
       "0        NO         NO  \n",
       "1        NO         NO  \n",
       "2        NO         NO  \n",
       "3       YES         NO  \n",
       "4        NO         NO  "
      ]
     },
     "execution_count": 3,
     "metadata": {},
     "output_type": "execute_result"
    }
   ],
   "source": [
    "baseball.head()"
   ]
  },
  {
   "cell_type": "code",
   "execution_count": 4,
   "metadata": {},
   "outputs": [
    {
     "data": {
      "text/html": [
       "<div>\n",
       "<style scoped>\n",
       "    .dataframe tbody tr th:only-of-type {\n",
       "        vertical-align: middle;\n",
       "    }\n",
       "\n",
       "    .dataframe tbody tr th {\n",
       "        vertical-align: top;\n",
       "    }\n",
       "\n",
       "    .dataframe thead th {\n",
       "        text-align: right;\n",
       "    }\n",
       "</style>\n",
       "<table border=\"1\" class=\"dataframe\">\n",
       "  <thead>\n",
       "    <tr style=\"text-align: right;\">\n",
       "      <th></th>\n",
       "      <th>day</th>\n",
       "      <th>attend</th>\n",
       "      <th>temp</th>\n",
       "    </tr>\n",
       "  </thead>\n",
       "  <tbody>\n",
       "    <tr>\n",
       "      <th>count</th>\n",
       "      <td>81.000000</td>\n",
       "      <td>81.000000</td>\n",
       "      <td>81.000000</td>\n",
       "    </tr>\n",
       "    <tr>\n",
       "      <th>mean</th>\n",
       "      <td>16.135802</td>\n",
       "      <td>41040.074074</td>\n",
       "      <td>73.148148</td>\n",
       "    </tr>\n",
       "    <tr>\n",
       "      <th>std</th>\n",
       "      <td>9.605666</td>\n",
       "      <td>8297.539460</td>\n",
       "      <td>8.317318</td>\n",
       "    </tr>\n",
       "    <tr>\n",
       "      <th>min</th>\n",
       "      <td>1.000000</td>\n",
       "      <td>24312.000000</td>\n",
       "      <td>54.000000</td>\n",
       "    </tr>\n",
       "    <tr>\n",
       "      <th>25%</th>\n",
       "      <td>8.000000</td>\n",
       "      <td>34493.000000</td>\n",
       "      <td>67.000000</td>\n",
       "    </tr>\n",
       "    <tr>\n",
       "      <th>50%</th>\n",
       "      <td>15.000000</td>\n",
       "      <td>40284.000000</td>\n",
       "      <td>73.000000</td>\n",
       "    </tr>\n",
       "    <tr>\n",
       "      <th>75%</th>\n",
       "      <td>25.000000</td>\n",
       "      <td>46588.000000</td>\n",
       "      <td>79.000000</td>\n",
       "    </tr>\n",
       "    <tr>\n",
       "      <th>max</th>\n",
       "      <td>31.000000</td>\n",
       "      <td>56000.000000</td>\n",
       "      <td>95.000000</td>\n",
       "    </tr>\n",
       "  </tbody>\n",
       "</table>\n",
       "</div>"
      ],
      "text/plain": [
       "             day        attend       temp\n",
       "count  81.000000     81.000000  81.000000\n",
       "mean   16.135802  41040.074074  73.148148\n",
       "std     9.605666   8297.539460   8.317318\n",
       "min     1.000000  24312.000000  54.000000\n",
       "25%     8.000000  34493.000000  67.000000\n",
       "50%    15.000000  40284.000000  73.000000\n",
       "75%    25.000000  46588.000000  79.000000\n",
       "max    31.000000  56000.000000  95.000000"
      ]
     },
     "execution_count": 4,
     "metadata": {},
     "output_type": "execute_result"
    }
   ],
   "source": [
    "baseball.describe()"
   ]
  },
  {
   "cell_type": "code",
   "execution_count": 5,
   "metadata": {},
   "outputs": [],
   "source": [
    "# I am going to drop the skies column as we would have no way to know or predict that for a specific day\n",
    "baseball = baseball.drop(columns=['skies'])"
   ]
  },
  {
   "cell_type": "markdown",
   "metadata": {},
   "source": [
    "#### Before breaking the attendance down, I would like to look at an overall histogram of attendance"
   ]
  },
  {
   "cell_type": "code",
   "execution_count": 6,
   "metadata": {},
   "outputs": [
    {
     "data": {
      "text/plain": [
       "array([[<AxesSubplot:title={'center':'attend'}>]], dtype=object)"
      ]
     },
     "execution_count": 6,
     "metadata": {},
     "output_type": "execute_result"
    },
    {
     "data": {
      "image/png": "[encoded data removed]",
      "text/plain": [
       "<Figure size 432x288 with 1 Axes>"
      ]
     },
     "metadata": {
      "needs_background": "light"
     },
     "output_type": "display_data"
    }
   ],
   "source": [
    "baseball.hist(column='attend')"
   ]
  },
  {
   "cell_type": "markdown",
   "metadata": {},
   "source": [
    "#### Most of the attendance falls between 30,000 - 50,000 with the highest nubers around 55,000 and the low end being 25,000."
   ]
  },
  {
   "cell_type": "code",
   "execution_count": 7,
   "metadata": {},
   "outputs": [
    {
     "data": {
      "text/plain": [
       "<AxesSubplot:xlabel='temp', ylabel='attend'>"
      ]
     },
     "execution_count": 7,
     "metadata": {},
     "output_type": "execute_result"
    },
    {
     "data": {
      "image/png": "[encoded data removed]",
      "text/plain": [
       "<Figure size 432x288 with 1 Axes>"
      ]
     },
     "metadata": {
      "needs_background": "light"
     },
     "output_type": "display_data"
    }
   ],
   "source": [
    "# Although we can't predict a specific temp for a day, we could potentially use average \n",
    "# temps to determine a month or week, so I will look at how attendance and temp correlate\n",
    "baseball.plot.scatter('temp', 'attend')"
   ]
  },
  {
   "cell_type": "markdown",
   "metadata": {},
   "source": [
    "#### The highest attendance is when temps are in the 70-80 degree range"
   ]
  },
  {
   "cell_type": "markdown",
   "metadata": {},
   "source": [
    "#### Now I will plot attendance per days of the week"
   ]
  },
  {
   "cell_type": "code",
   "execution_count": 8,
   "metadata": {},
   "outputs": [
    {
     "data": {
      "text/plain": [
       "<AxesSubplot:title={'center':'attend'}, xlabel='day_of_week'>"
      ]
     },
     "execution_count": 8,
     "metadata": {},
     "output_type": "execute_result"
    },
    {
     "data": {
      "image/png": "[encoded data removed]",
      "text/plain": [
       "<Figure size 432x288 with 1 Axes>"
      ]
     },
     "metadata": {
      "needs_background": "light"
     },
     "output_type": "display_data"
    }
   ],
   "source": [
    "# plot attendance by day of week\n",
    "baseball.boxplot(by ='day_of_week', column =['attend'], grid = False)"
   ]
  },
  {
   "cell_type": "markdown",
   "metadata": {},
   "source": [
    "#### I would like to make this a bit easier to read by ordering the days "
   ]
  },
  {
   "cell_type": "code",
   "execution_count": 9,
   "metadata": {},
   "outputs": [],
   "source": [
    "# create order for days\n",
    "day_order = ['Sunday', 'Monday', 'Tuesday', 'Wednesday', 'Thursday', 'Friday', 'Saturday']    "
   ]
  },
  {
   "cell_type": "code",
   "execution_count": 10,
   "metadata": {},
   "outputs": [
    {
     "data": {
      "text/plain": [
       "<AxesSubplot:xlabel='day_of_week', ylabel='attend'>"
      ]
     },
     "execution_count": 10,
     "metadata": {},
     "output_type": "execute_result"
    },
    {
     "data": {
      "image/png": "[encoded data removed]",
      "text/plain": [
       "<Figure size 432x288 with 1 Axes>"
      ]
     },
     "metadata": {
      "needs_background": "light"
     },
     "output_type": "display_data"
    }
   ],
   "source": [
    "# rerun the plot with days in order\n",
    "import seaborn as sns\n",
    "sns.boxplot(x=baseball.day_of_week, y=baseball.attend, order=day_order)"
   ]
  },
  {
   "cell_type": "markdown",
   "metadata": {},
   "source": [
    "#### The highest attendance is recorded on Tuesdays with Mondays having low attendance"
   ]
  },
  {
   "cell_type": "markdown",
   "metadata": {},
   "source": [
    "#### I feel as though attendance would be impacted by who the opponent is, so I will plot opponent to attendance"
   ]
  },
  {
   "cell_type": "code",
   "execution_count": 11,
   "metadata": {},
   "outputs": [
    {
     "data": {
      "text/plain": [
       "[Text(0, 0, 'Pirates'),\n",
       " Text(1, 0, 'Padres'),\n",
       " Text(2, 0, 'Braves'),\n",
       " Text(3, 0, 'Nationals'),\n",
       " Text(4, 0, 'Giants'),\n",
       " Text(5, 0, 'Rockies'),\n",
       " Text(6, 0, 'Snakes'),\n",
       " Text(7, 0, 'Cardinals'),\n",
       " Text(8, 0, 'Astros'),\n",
       " Text(9, 0, 'Brewers'),\n",
       " Text(10, 0, 'Angels'),\n",
       " Text(11, 0, 'White Sox'),\n",
       " Text(12, 0, 'Mets'),\n",
       " Text(13, 0, 'Reds'),\n",
       " Text(14, 0, 'Phillies'),\n",
       " Text(15, 0, 'Cubs'),\n",
       " Text(16, 0, 'Marlins')]"
      ]
     },
     "execution_count": 11,
     "metadata": {},
     "output_type": "execute_result"
    },
    {
     "data": {
      "image/png": "[encoded data removed]",
      "text/plain": [
       "<Figure size 432x288 with 1 Axes>"
      ]
     },
     "metadata": {
      "needs_background": "light"
     },
     "output_type": "display_data"
    }
   ],
   "source": [
    "# plot attendance by opponent\n",
    "import seaborn as sns\n",
    "opponent = sns.boxplot(x=baseball.opponent, y=baseball.attend)\n",
    "opponent.set_xticklabels(opponent.get_xticklabels(),rotation = 60)\n"
   ]
  },
  {
   "cell_type": "markdown",
   "metadata": {},
   "source": [
    "#### It does appear that there are higher attendance numbers while playing the Pirates and Giants and very low attendance numbers when playing the Braves, Brewers and Snakes.  I'm not sure that this will really be useful though if we are simply looking for a day without knowing the schedule and who they would be playing.  This would be valuable information to know prior to making a final decision."
   ]
  },
  {
   "cell_type": "markdown",
   "metadata": {},
   "source": [
    "#### I would like to create a new column that simply identifies if the game had a promotion or not, I will call it promo_game with a YES/NO value.  I will then add another column to identify in one column which promo (if any) was run."
   ]
  },
  {
   "cell_type": "code",
   "execution_count": 12,
   "metadata": {},
   "outputs": [],
   "source": [
    "# create new column promo_game\n",
    "baseball['promo_game'] = baseball[['cap','shirt','fireworks','bobblehead']].max(axis=1)"
   ]
  },
  {
   "cell_type": "code",
   "execution_count": 13,
   "metadata": {},
   "outputs": [
    {
     "data": {
      "text/html": [
       "<div>\n",
       "<style scoped>\n",
       "    .dataframe tbody tr th:only-of-type {\n",
       "        vertical-align: middle;\n",
       "    }\n",
       "\n",
       "    .dataframe tbody tr th {\n",
       "        vertical-align: top;\n",
       "    }\n",
       "\n",
       "    .dataframe thead th {\n",
       "        text-align: right;\n",
       "    }\n",
       "</style>\n",
       "<table border=\"1\" class=\"dataframe\">\n",
       "  <thead>\n",
       "    <tr style=\"text-align: right;\">\n",
       "      <th></th>\n",
       "      <th>month</th>\n",
       "      <th>day</th>\n",
       "      <th>attend</th>\n",
       "      <th>day_of_week</th>\n",
       "      <th>opponent</th>\n",
       "      <th>temp</th>\n",
       "      <th>day_night</th>\n",
       "      <th>cap</th>\n",
       "      <th>shirt</th>\n",
       "      <th>fireworks</th>\n",
       "      <th>bobblehead</th>\n",
       "      <th>promo_game</th>\n",
       "      <th>promo</th>\n",
       "    </tr>\n",
       "  </thead>\n",
       "  <tbody>\n",
       "    <tr>\n",
       "      <th>0</th>\n",
       "      <td>APR</td>\n",
       "      <td>10</td>\n",
       "      <td>56000</td>\n",
       "      <td>Tuesday</td>\n",
       "      <td>Pirates</td>\n",
       "      <td>67</td>\n",
       "      <td>Day</td>\n",
       "      <td>NO</td>\n",
       "      <td>NO</td>\n",
       "      <td>NO</td>\n",
       "      <td>NO</td>\n",
       "      <td>NO</td>\n",
       "      <td>none</td>\n",
       "    </tr>\n",
       "    <tr>\n",
       "      <th>1</th>\n",
       "      <td>APR</td>\n",
       "      <td>11</td>\n",
       "      <td>29729</td>\n",
       "      <td>Wednesday</td>\n",
       "      <td>Pirates</td>\n",
       "      <td>58</td>\n",
       "      <td>Night</td>\n",
       "      <td>NO</td>\n",
       "      <td>NO</td>\n",
       "      <td>NO</td>\n",
       "      <td>NO</td>\n",
       "      <td>NO</td>\n",
       "      <td>none</td>\n",
       "    </tr>\n",
       "    <tr>\n",
       "      <th>2</th>\n",
       "      <td>APR</td>\n",
       "      <td>12</td>\n",
       "      <td>28328</td>\n",
       "      <td>Thursday</td>\n",
       "      <td>Pirates</td>\n",
       "      <td>57</td>\n",
       "      <td>Night</td>\n",
       "      <td>NO</td>\n",
       "      <td>NO</td>\n",
       "      <td>NO</td>\n",
       "      <td>NO</td>\n",
       "      <td>NO</td>\n",
       "      <td>none</td>\n",
       "    </tr>\n",
       "    <tr>\n",
       "      <th>3</th>\n",
       "      <td>APR</td>\n",
       "      <td>13</td>\n",
       "      <td>31601</td>\n",
       "      <td>Friday</td>\n",
       "      <td>Padres</td>\n",
       "      <td>54</td>\n",
       "      <td>Night</td>\n",
       "      <td>NO</td>\n",
       "      <td>NO</td>\n",
       "      <td>YES</td>\n",
       "      <td>NO</td>\n",
       "      <td>YES</td>\n",
       "      <td>fireworks</td>\n",
       "    </tr>\n",
       "    <tr>\n",
       "      <th>4</th>\n",
       "      <td>APR</td>\n",
       "      <td>14</td>\n",
       "      <td>46549</td>\n",
       "      <td>Saturday</td>\n",
       "      <td>Padres</td>\n",
       "      <td>57</td>\n",
       "      <td>Night</td>\n",
       "      <td>NO</td>\n",
       "      <td>NO</td>\n",
       "      <td>NO</td>\n",
       "      <td>NO</td>\n",
       "      <td>NO</td>\n",
       "      <td>none</td>\n",
       "    </tr>\n",
       "  </tbody>\n",
       "</table>\n",
       "</div>"
      ],
      "text/plain": [
       "  month  day  attend day_of_week opponent  temp day_night cap shirt fireworks  \\\n",
       "0   APR   10   56000     Tuesday  Pirates    67       Day  NO    NO        NO   \n",
       "1   APR   11   29729   Wednesday  Pirates    58     Night  NO    NO        NO   \n",
       "2   APR   12   28328    Thursday  Pirates    57     Night  NO    NO        NO   \n",
       "3   APR   13   31601      Friday   Padres    54     Night  NO    NO       YES   \n",
       "4   APR   14   46549    Saturday   Padres    57     Night  NO    NO        NO   \n",
       "\n",
       "  bobblehead promo_game      promo  \n",
       "0         NO         NO       none  \n",
       "1         NO         NO       none  \n",
       "2         NO         NO       none  \n",
       "3         NO        YES  fireworks  \n",
       "4         NO         NO       none  "
      ]
     },
     "execution_count": 13,
     "metadata": {},
     "output_type": "execute_result"
    }
   ],
   "source": [
    "conditions = [\n",
    "    (baseball['cap'] == 'YES'),\n",
    "    (baseball['shirt'] == 'YES'), \n",
    "    (baseball['fireworks'] == 'YES') ,\n",
    "    (baseball['bobblehead'] == 'YES')\n",
    "    ]\n",
    "\n",
    "# create a list of the values we want to assign for each condition\n",
    "values = ['cap', 'shirt', 'fireworks', 'bobblehead']\n",
    "\n",
    "# create a new column and use np.select to assign values to it using our lists as arguments\n",
    "baseball['promo'] = np.select(conditions, values)\n",
    "baseball['promo'] = baseball['promo'].replace(['0'],['none'])\n",
    "\n",
    "# display updated DataFrame\n",
    "baseball.head()"
   ]
  },
  {
   "cell_type": "markdown",
   "metadata": {},
   "source": [
    "#### I would like to plot attendance for promo vs non-promo games and then also plot attendance per type of promo"
   ]
  },
  {
   "cell_type": "code",
   "execution_count": 14,
   "metadata": {},
   "outputs": [
    {
     "data": {
      "image/png": "[encoded data removed]",
      "text/plain": [
       "<Figure size 432x288 with 1 Axes>"
      ]
     },
     "metadata": {
      "needs_background": "light"
     },
     "output_type": "display_data"
    }
   ],
   "source": [
    "# plot attendance for promo_game vs non promo-game\n",
    "promo_attend = sns.boxplot(x=baseball.promo_game, y=baseball.attend)"
   ]
  },
  {
   "cell_type": "code",
   "execution_count": 15,
   "metadata": {},
   "outputs": [
    {
     "data": {
      "text/plain": [
       "<AxesSubplot:xlabel='promo', ylabel='attend'>"
      ]
     },
     "execution_count": 15,
     "metadata": {},
     "output_type": "execute_result"
    },
    {
     "data": {
      "image/png": "[encoded data removed]",
      "text/plain": [
       "<Figure size 432x288 with 1 Axes>"
      ]
     },
     "metadata": {
      "needs_background": "light"
     },
     "output_type": "display_data"
    }
   ],
   "source": [
    "# plot attendance per promo type\n",
    "sns.boxplot(x='promo', y='attend', data=baseball)"
   ]
  },
  {
   "cell_type": "markdown",
   "metadata": {},
   "source": [
    "#### We can see that the promotions do have a positive affect on attendance with bobbleheads clearly having the largest correlation to higher attendance"
   ]
  },
  {
   "cell_type": "markdown",
   "metadata": {},
   "source": [
    "#### I would like to now look at attendance by month and day of the week together"
   ]
  },
  {
   "cell_type": "code",
   "execution_count": 16,
   "metadata": {},
   "outputs": [
    {
     "name": "stderr",
     "output_type": "stream",
     "text": [
      "/opt/anaconda3/lib/python3.8/site-packages/seaborn/_decorators.py:36: FutureWarning: Pass the following variables as keyword args: x, y. From version 0.12, the only valid positional argument will be `data`, and passing other arguments without an explicit keyword will result in an error or misinterpretation.\n",
      "  warnings.warn(\n"
     ]
    },
    {
     "data": {
      "text/plain": [
       "<matplotlib.legend.Legend at 0x7fd250fbb640>"
      ]
     },
     "execution_count": 16,
     "metadata": {},
     "output_type": "execute_result"
    },
    {
     "data": {
      "image/png": "[encoded data removed]",
      "text/plain": [
       "<Figure size 432x288 with 1 Axes>"
      ]
     },
     "metadata": {
      "needs_background": "light"
     },
     "output_type": "display_data"
    }
   ],
   "source": [
    "# plot attendance by month and day of week\n",
    "import seaborn as sns\n",
    "sns.scatterplot('month', 'attend', data=baseball, hue='day_of_week')\n",
    "plt.legend(bbox_to_anchor=(1.02, 1), loc='upper left', borderaxespad=0)\n"
   ]
  },
  {
   "cell_type": "markdown",
   "metadata": {},
   "source": [
    "#### We can see again that Tuesdays have high attendance days, the lowest attendance days are seen in April and May with Mondays and Wednesdays have lower numbers, especially in those months. This made me interested to see what days promos were run, so I plotted each promo type with the day of the week against attendance."
   ]
  },
  {
   "cell_type": "code",
   "execution_count": 17,
   "metadata": {},
   "outputs": [
    {
     "name": "stderr",
     "output_type": "stream",
     "text": [
      "/opt/anaconda3/lib/python3.8/site-packages/seaborn/_decorators.py:36: FutureWarning: Pass the following variables as keyword args: x, y. From version 0.12, the only valid positional argument will be `data`, and passing other arguments without an explicit keyword will result in an error or misinterpretation.\n",
      "  warnings.warn(\n"
     ]
    },
    {
     "data": {
      "text/plain": [
       "<matplotlib.legend.Legend at 0x7fd250ffc6a0>"
      ]
     },
     "execution_count": 17,
     "metadata": {},
     "output_type": "execute_result"
    },
    {
     "data": {
      "image/png": "[encoded data removed]",
      "text/plain": [
       "<Figure size 432x288 with 1 Axes>"
      ]
     },
     "metadata": {
      "needs_background": "light"
     },
     "output_type": "display_data"
    }
   ],
   "source": [
    "# plot attendance by promo and day of week\n",
    "import seaborn as sns\n",
    "sns.scatterplot('promo', 'attend', data=baseball, hue='day_of_week')\n",
    "plt.legend(bbox_to_anchor=(1.02, 1), loc='upper left', borderaxespad=0)"
   ]
  },
  {
   "cell_type": "markdown",
   "metadata": {},
   "source": [
    "#### We can see again that bobblehead games had high attendance, and most of those were Tuesdays and Thursdays, which could be related to Tuesdays having the highest numbers that we saw earlier.  Also, there are not a lot of promotions on Mondays, which we previously noted had low attendance."
   ]
  },
  {
   "cell_type": "markdown",
   "metadata": {},
   "source": [
    "#### Now I will run a linear regression with attendance as the dependent variable and month, day of the week and each promotion types as predictor variables.  "
   ]
  },
  {
   "cell_type": "code",
   "execution_count": 18,
   "metadata": {},
   "outputs": [
    {
     "data": {
      "text/html": [
       "<table class=\"simpletable\">\n",
       "<caption>Generalized Linear Model Regression Results</caption>\n",
       "<tr>\n",
       "  <th>Dep. Variable:</th>        <td>attend</td>      <th>  No. Observations:  </th>   <td>    81</td>  \n",
       "</tr>\n",
       "<tr>\n",
       "  <th>Model:</th>                  <td>GLM</td>       <th>  Df Residuals:      </th>   <td>    64</td>  \n",
       "</tr>\n",
       "<tr>\n",
       "  <th>Model Family:</th>        <td>Gaussian</td>     <th>  Df Model:          </th>   <td>    16</td>  \n",
       "</tr>\n",
       "<tr>\n",
       "  <th>Link Function:</th>       <td>identity</td>     <th>  Scale:             </th> <td>3.3007e+07</td>\n",
       "</tr>\n",
       "<tr>\n",
       "  <th>Method:</th>                <td>IRLS</td>       <th>  Log-Likelihood:    </th>  <td> -806.54</td> \n",
       "</tr>\n",
       "<tr>\n",
       "  <th>Date:</th>            <td>Mon, 28 Jun 2021</td> <th>  Deviance:          </th> <td>2.1125e+09</td>\n",
       "</tr>\n",
       "<tr>\n",
       "  <th>Time:</th>                <td>00:55:37</td>     <th>  Pearson chi2:      </th>  <td>2.11e+09</td> \n",
       "</tr>\n",
       "<tr>\n",
       "  <th>No. Iterations:</th>          <td>3</td>        <th>                     </th>      <td> </td>    \n",
       "</tr>\n",
       "<tr>\n",
       "  <th>Covariance Type:</th>     <td>nonrobust</td>    <th>                     </th>      <td> </td>    \n",
       "</tr>\n",
       "</table>\n",
       "<table class=\"simpletable\">\n",
       "<tr>\n",
       "              <td></td>                <th>coef</th>     <th>std err</th>      <th>z</th>      <th>P>|z|</th>  <th>[0.025</th>    <th>0.975]</th>  \n",
       "</tr>\n",
       "<tr>\n",
       "  <th>Intercept</th>                <td> 2.223e+04</td> <td> 6583.340</td> <td>    3.377</td> <td> 0.001</td> <td> 9329.675</td> <td> 3.51e+04</td>\n",
       "</tr>\n",
       "<tr>\n",
       "  <th>month[T.AUG]</th>             <td> 3341.0703</td> <td> 2304.295</td> <td>    1.450</td> <td> 0.147</td> <td>-1175.265</td> <td> 7857.406</td>\n",
       "</tr>\n",
       "<tr>\n",
       "  <th>month[T.JUL]</th>             <td> 2564.2583</td> <td> 2555.919</td> <td>    1.003</td> <td> 0.316</td> <td>-2445.252</td> <td> 7573.768</td>\n",
       "</tr>\n",
       "<tr>\n",
       "  <th>month[T.JUN]</th>             <td> 6933.3521</td> <td> 2573.781</td> <td>    2.694</td> <td> 0.007</td> <td> 1888.835</td> <td>  1.2e+04</td>\n",
       "</tr>\n",
       "<tr>\n",
       "  <th>month[T.MAY]</th>             <td>-1924.7543</td> <td> 2175.756</td> <td>   -0.885</td> <td> 0.376</td> <td>-6189.158</td> <td> 2339.649</td>\n",
       "</tr>\n",
       "<tr>\n",
       "  <th>month[T.OCT]</th>             <td>  221.8223</td> <td> 3825.941</td> <td>    0.058</td> <td> 0.954</td> <td>-7276.884</td> <td> 7720.529</td>\n",
       "</tr>\n",
       "<tr>\n",
       "  <th>month[T.SEP]</th>             <td> -102.9399</td> <td> 2367.346</td> <td>   -0.043</td> <td> 0.965</td> <td>-4742.852</td> <td> 4536.972</td>\n",
       "</tr>\n",
       "<tr>\n",
       "  <th>day_of_week[T.Monday]</th>    <td> 1.093e+04</td> <td> 6802.780</td> <td>    1.607</td> <td> 0.108</td> <td>-2401.773</td> <td> 2.43e+04</td>\n",
       "</tr>\n",
       "<tr>\n",
       "  <th>day_of_week[T.Saturday]</th>  <td> 1.788e+04</td> <td> 6658.360</td> <td>    2.686</td> <td> 0.007</td> <td> 4833.815</td> <td> 3.09e+04</td>\n",
       "</tr>\n",
       "<tr>\n",
       "  <th>day_of_week[T.Sunday]</th>    <td> 1.823e+04</td> <td> 6712.865</td> <td>    2.715</td> <td> 0.007</td> <td> 5068.239</td> <td> 3.14e+04</td>\n",
       "</tr>\n",
       "<tr>\n",
       "  <th>day_of_week[T.Thursday]</th>  <td> 1.225e+04</td> <td> 6947.409</td> <td>    1.763</td> <td> 0.078</td> <td>-1371.459</td> <td> 2.59e+04</td>\n",
       "</tr>\n",
       "<tr>\n",
       "  <th>day_of_week[T.Tuesday]</th>   <td> 1.935e+04</td> <td> 6811.893</td> <td>    2.841</td> <td> 0.004</td> <td> 6000.942</td> <td> 3.27e+04</td>\n",
       "</tr>\n",
       "<tr>\n",
       "  <th>day_of_week[T.Wednesday]</th> <td> 1.246e+04</td> <td> 6241.486</td> <td>    1.997</td> <td> 0.046</td> <td>  230.656</td> <td> 2.47e+04</td>\n",
       "</tr>\n",
       "<tr>\n",
       "  <th>cap[T.YES]</th>               <td>-5784.5577</td> <td> 4467.996</td> <td>   -1.295</td> <td> 0.195</td> <td>-1.45e+04</td> <td> 2972.554</td>\n",
       "</tr>\n",
       "<tr>\n",
       "  <th>shirt[T.YES]</th>             <td> 5964.5286</td> <td> 3633.482</td> <td>    1.642</td> <td> 0.101</td> <td>-1156.965</td> <td> 1.31e+04</td>\n",
       "</tr>\n",
       "<tr>\n",
       "  <th>fireworks[T.YES]</th>         <td> 1.631e+04</td> <td> 6268.591</td> <td>    2.602</td> <td> 0.009</td> <td> 4023.002</td> <td> 2.86e+04</td>\n",
       "</tr>\n",
       "<tr>\n",
       "  <th>bobblehead[T.YES]</th>        <td>  1.07e+04</td> <td> 2346.479</td> <td>    4.560</td> <td> 0.000</td> <td> 6101.130</td> <td> 1.53e+04</td>\n",
       "</tr>\n",
       "</table>"
      ],
      "text/plain": [
       "<class 'statsmodels.iolib.summary.Summary'>\n",
       "\"\"\"\n",
       "                 Generalized Linear Model Regression Results                  \n",
       "==============================================================================\n",
       "Dep. Variable:                 attend   No. Observations:                   81\n",
       "Model:                            GLM   Df Residuals:                       64\n",
       "Model Family:                Gaussian   Df Model:                           16\n",
       "Link Function:               identity   Scale:                      3.3007e+07\n",
       "Method:                          IRLS   Log-Likelihood:                -806.54\n",
       "Date:                Mon, 28 Jun 2021   Deviance:                   2.1125e+09\n",
       "Time:                        00:55:37   Pearson chi2:                 2.11e+09\n",
       "No. Iterations:                     3                                         \n",
       "Covariance Type:            nonrobust                                         \n",
       "============================================================================================\n",
       "                               coef    std err          z      P>|z|      [0.025      0.975]\n",
       "--------------------------------------------------------------------------------------------\n",
       "Intercept                 2.223e+04   6583.340      3.377      0.001    9329.675    3.51e+04\n",
       "month[T.AUG]              3341.0703   2304.295      1.450      0.147   -1175.265    7857.406\n",
       "month[T.JUL]              2564.2583   2555.919      1.003      0.316   -2445.252    7573.768\n",
       "month[T.JUN]              6933.3521   2573.781      2.694      0.007    1888.835     1.2e+04\n",
       "month[T.MAY]             -1924.7543   2175.756     -0.885      0.376   -6189.158    2339.649\n",
       "month[T.OCT]               221.8223   3825.941      0.058      0.954   -7276.884    7720.529\n",
       "month[T.SEP]              -102.9399   2367.346     -0.043      0.965   -4742.852    4536.972\n",
       "day_of_week[T.Monday]     1.093e+04   6802.780      1.607      0.108   -2401.773    2.43e+04\n",
       "day_of_week[T.Saturday]   1.788e+04   6658.360      2.686      0.007    4833.815    3.09e+04\n",
       "day_of_week[T.Sunday]     1.823e+04   6712.865      2.715      0.007    5068.239    3.14e+04\n",
       "day_of_week[T.Thursday]   1.225e+04   6947.409      1.763      0.078   -1371.459    2.59e+04\n",
       "day_of_week[T.Tuesday]    1.935e+04   6811.893      2.841      0.004    6000.942    3.27e+04\n",
       "day_of_week[T.Wednesday]  1.246e+04   6241.486      1.997      0.046     230.656    2.47e+04\n",
       "cap[T.YES]               -5784.5577   4467.996     -1.295      0.195   -1.45e+04    2972.554\n",
       "shirt[T.YES]              5964.5286   3633.482      1.642      0.101   -1156.965    1.31e+04\n",
       "fireworks[T.YES]          1.631e+04   6268.591      2.602      0.009    4023.002    2.86e+04\n",
       "bobblehead[T.YES]          1.07e+04   2346.479      4.560      0.000    6101.130    1.53e+04\n",
       "============================================================================================\n",
       "\"\"\""
      ]
     },
     "execution_count": 18,
     "metadata": {},
     "output_type": "execute_result"
    }
   ],
   "source": [
    "model = sm.GLM.from_formula(\"attend ~ month + day_of_week + cap + shirt + fireworks + bobblehead\", data=baseball)\n",
    "result = model.fit()\n",
    "result.summary()"
   ]
  },
  {
   "cell_type": "markdown",
   "metadata": {},
   "source": [
    "#### I also want to see the linear regression with month and day of the week without the impact of current promotions"
   ]
  },
  {
   "cell_type": "code",
   "execution_count": 19,
   "metadata": {
    "scrolled": true
   },
   "outputs": [
    {
     "data": {
      "text/html": [
       "<table class=\"simpletable\">\n",
       "<caption>Generalized Linear Model Regression Results</caption>\n",
       "<tr>\n",
       "  <th>Dep. Variable:</th>        <td>attend</td>      <th>  No. Observations:  </th>   <td>    81</td>  \n",
       "</tr>\n",
       "<tr>\n",
       "  <th>Model:</th>                  <td>GLM</td>       <th>  Df Residuals:      </th>   <td>    68</td>  \n",
       "</tr>\n",
       "<tr>\n",
       "  <th>Model Family:</th>        <td>Gaussian</td>     <th>  Df Model:          </th>   <td>    12</td>  \n",
       "</tr>\n",
       "<tr>\n",
       "  <th>Link Function:</th>       <td>identity</td>     <th>  Scale:             </th> <td>4.7708e+07</td>\n",
       "</tr>\n",
       "<tr>\n",
       "  <th>Method:</th>                <td>IRLS</td>       <th>  Log-Likelihood:    </th>  <td> -823.91</td> \n",
       "</tr>\n",
       "<tr>\n",
       "  <th>Date:</th>            <td>Mon, 28 Jun 2021</td> <th>  Deviance:          </th> <td>3.2442e+09</td>\n",
       "</tr>\n",
       "<tr>\n",
       "  <th>Time:</th>                <td>00:55:38</td>     <th>  Pearson chi2:      </th>  <td>3.24e+09</td> \n",
       "</tr>\n",
       "<tr>\n",
       "  <th>No. Iterations:</th>          <td>3</td>        <th>                     </th>      <td> </td>    \n",
       "</tr>\n",
       "<tr>\n",
       "  <th>Covariance Type:</th>     <td>nonrobust</td>    <th>                     </th>      <td> </td>    \n",
       "</tr>\n",
       "</table>\n",
       "<table class=\"simpletable\">\n",
       "<tr>\n",
       "              <td></td>                <th>coef</th>     <th>std err</th>      <th>z</th>      <th>P>|z|</th>  <th>[0.025</th>    <th>0.975]</th>  \n",
       "</tr>\n",
       "<tr>\n",
       "  <th>Intercept</th>                <td> 3.805e+04</td> <td> 2661.948</td> <td>   14.293</td> <td> 0.000</td> <td> 3.28e+04</td> <td> 4.33e+04</td>\n",
       "</tr>\n",
       "<tr>\n",
       "  <th>month[T.AUG]</th>             <td> 3965.9784</td> <td> 2681.525</td> <td>    1.479</td> <td> 0.139</td> <td>-1289.714</td> <td> 9221.670</td>\n",
       "</tr>\n",
       "<tr>\n",
       "  <th>month[T.JUL]</th>             <td> 4768.3867</td> <td> 2868.802</td> <td>    1.662</td> <td> 0.096</td> <td> -854.361</td> <td> 1.04e+04</td>\n",
       "</tr>\n",
       "<tr>\n",
       "  <th>month[T.JUN]</th>             <td> 8753.4054</td> <td> 3057.367</td> <td>    2.863</td> <td> 0.004</td> <td> 2761.076</td> <td> 1.47e+04</td>\n",
       "</tr>\n",
       "<tr>\n",
       "  <th>month[T.MAY]</th>             <td>-1957.7296</td> <td> 2583.531</td> <td>   -0.758</td> <td> 0.449</td> <td>-7021.358</td> <td> 3105.899</td>\n",
       "</tr>\n",
       "<tr>\n",
       "  <th>month[T.OCT]</th>             <td>-1500.1929</td> <td> 4561.773</td> <td>   -0.329</td> <td> 0.742</td> <td>-1.04e+04</td> <td> 7440.717</td>\n",
       "</tr>\n",
       "<tr>\n",
       "  <th>month[T.SEP]</th>             <td> -692.4947</td> <td> 2839.495</td> <td>   -0.244</td> <td> 0.807</td> <td>-6257.803</td> <td> 4872.814</td>\n",
       "</tr>\n",
       "<tr>\n",
       "  <th>day_of_week[T.Monday]</th>    <td>-4991.2625</td> <td> 2826.580</td> <td>   -1.766</td> <td> 0.077</td> <td>-1.05e+04</td> <td>  548.733</td>\n",
       "</tr>\n",
       "<tr>\n",
       "  <th>day_of_week[T.Saturday]</th>  <td> 3314.3441</td> <td> 2717.208</td> <td>    1.220</td> <td> 0.223</td> <td>-2011.286</td> <td> 8639.975</td>\n",
       "</tr>\n",
       "<tr>\n",
       "  <th>day_of_week[T.Sunday]</th>    <td> 2816.8071</td> <td> 2727.510</td> <td>    1.033</td> <td> 0.302</td> <td>-2529.015</td> <td> 8162.629</td>\n",
       "</tr>\n",
       "<tr>\n",
       "  <th>day_of_week[T.Thursday]</th>  <td>  347.0261</td> <td> 3643.149</td> <td>    0.095</td> <td> 0.924</td> <td>-6793.415</td> <td> 7487.468</td>\n",
       "</tr>\n",
       "<tr>\n",
       "  <th>day_of_week[T.Tuesday]</th>   <td> 7931.2545</td> <td> 2762.345</td> <td>    2.871</td> <td> 0.004</td> <td> 2517.157</td> <td> 1.33e+04</td>\n",
       "</tr>\n",
       "<tr>\n",
       "  <th>day_of_week[T.Wednesday]</th> <td>-2468.0392</td> <td> 2805.030</td> <td>   -0.880</td> <td> 0.379</td> <td>-7965.797</td> <td> 3029.719</td>\n",
       "</tr>\n",
       "</table>"
      ],
      "text/plain": [
       "<class 'statsmodels.iolib.summary.Summary'>\n",
       "\"\"\"\n",
       "                 Generalized Linear Model Regression Results                  \n",
       "==============================================================================\n",
       "Dep. Variable:                 attend   No. Observations:                   81\n",
       "Model:                            GLM   Df Residuals:                       68\n",
       "Model Family:                Gaussian   Df Model:                           12\n",
       "Link Function:               identity   Scale:                      4.7708e+07\n",
       "Method:                          IRLS   Log-Likelihood:                -823.91\n",
       "Date:                Mon, 28 Jun 2021   Deviance:                   3.2442e+09\n",
       "Time:                        00:55:38   Pearson chi2:                 3.24e+09\n",
       "No. Iterations:                     3                                         \n",
       "Covariance Type:            nonrobust                                         \n",
       "============================================================================================\n",
       "                               coef    std err          z      P>|z|      [0.025      0.975]\n",
       "--------------------------------------------------------------------------------------------\n",
       "Intercept                 3.805e+04   2661.948     14.293      0.000    3.28e+04    4.33e+04\n",
       "month[T.AUG]              3965.9784   2681.525      1.479      0.139   -1289.714    9221.670\n",
       "month[T.JUL]              4768.3867   2868.802      1.662      0.096    -854.361    1.04e+04\n",
       "month[T.JUN]              8753.4054   3057.367      2.863      0.004    2761.076    1.47e+04\n",
       "month[T.MAY]             -1957.7296   2583.531     -0.758      0.449   -7021.358    3105.899\n",
       "month[T.OCT]             -1500.1929   4561.773     -0.329      0.742   -1.04e+04    7440.717\n",
       "month[T.SEP]              -692.4947   2839.495     -0.244      0.807   -6257.803    4872.814\n",
       "day_of_week[T.Monday]    -4991.2625   2826.580     -1.766      0.077   -1.05e+04     548.733\n",
       "day_of_week[T.Saturday]   3314.3441   2717.208      1.220      0.223   -2011.286    8639.975\n",
       "day_of_week[T.Sunday]     2816.8071   2727.510      1.033      0.302   -2529.015    8162.629\n",
       "day_of_week[T.Thursday]    347.0261   3643.149      0.095      0.924   -6793.415    7487.468\n",
       "day_of_week[T.Tuesday]    7931.2545   2762.345      2.871      0.004    2517.157    1.33e+04\n",
       "day_of_week[T.Wednesday] -2468.0392   2805.030     -0.880      0.379   -7965.797    3029.719\n",
       "============================================================================================\n",
       "\"\"\""
      ]
     },
     "execution_count": 19,
     "metadata": {},
     "output_type": "execute_result"
    }
   ],
   "source": [
    "model = sm.GLM.from_formula(\"attend ~ month + day_of_week\", data=baseball)\n",
    "result = model.fit()\n",
    "result.summary()"
   ]
  },
  {
   "cell_type": "markdown",
   "metadata": {},
   "source": [
    "#### Looking at the p values in both of these models, we can see that September has the highest p value, indicating that the month of September does not have a strong correlation to higher attendance numbers.  Looking at the days of the week, in the model with the promotions included, Mondays had the least positive correlation. However, when removing current promotions, we see that Thursday has lower correlation.  I looked at the data specifically for Thursday and discovered that there were only 4 Thursday games and 2 of the 4 had a bobblehead promotion, which we have seen has a strong relationship to higher attendance, so that explains the difference in the p value when including the bobblehead promotion vs not including it.  Based on this analysis, I would conclude that a Thursday game in the month of September would be the best time to run a marketing promotion."
   ]
  },
  {
   "cell_type": "code",
   "execution_count": null,
   "metadata": {},
   "outputs": [],
   "source": []
  }
 ],
 "metadata": {
  "kernelspec": {
   "display_name": "Python 3",
   "language": "python",
   "name": "python3"
  },
  "language_info": {
   "codemirror_mode": {
    "name": "ipython",
    "version": 3
   },
   "file_extension": ".py",
   "mimetype": "text/x-python",
   "name": "python",
   "nbconvert_exporter": "python",
   "pygments_lexer": "ipython3",
   "version": "3.8.5"
  }
 },
 "nbformat": 4,
 "nbformat_minor": 4
}
