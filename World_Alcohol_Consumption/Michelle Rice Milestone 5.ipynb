{
 "cells": [
  {
   "cell_type": "markdown",
   "metadata": {},
   "source": [
    "### Michelle Rice\n",
    "### Term Project Milestone 5\n",
    "### World Alcohol Consumption"
   ]
  },
  {
   "cell_type": "markdown",
   "metadata": {},
   "source": [
    "   In order to complete this project, I selected three sources of data with information about alcohol consumption around the world.  This assignment was a very good experience in the process of combining data from different sources and finding ways to join them.  As I went through the process, I realized that one of my datasets did not really have information that I could join to my other two datasets or that was really relevant to the same type of analysis, so I decided it was best to find a different source.  \n",
    "    \n",
    "   I have some prior experience with SQL and databases, so I felt fairly comfortable with this, however writing join statements is one thing that I have always felt less confident with, so this was a great learning and practice experience and I definitely feel more comfortable with this now.  There were still a few things that confused me, for example I had a situation where I thought the join would not keep duplicate columns and it did, so I had to manually list the columns I wanted to keep, so this is something I plan to look into more. I also struggled a bit with the syntax when creating the graphs and could use more practice with this.  In some cases with my selects and my graphs, I felt like I got it working, but I still wasn’t sure that the way I did it was the best or easiest way to do it.  As an example, I used row_factory to create lists rather than tuples from my selects so that I could pass that list into my graph, but I feel there should be an easier way to do this rather than doing each select separately, this is something I will explore.  I did have one table that I replaced but then could not get the DROP TABLE code to work, so I have an unused table in my database. now.\n",
    "    \n",
    "   One thing that I learned was the importance of cleaning up column names.  I had a few columns that had a special character in them that made it a bit more difficult when I was writing my select statements and creating my graphs, so I ended up going back and doing more cleanup work.  I also now see how helpful little things like changing everything to lower case is when you start working with it.\n",
    "    \n",
    "   A couple of other observations that I made was that I had a few columns that were named different but had the same information, but the values were slightly different.  I just chose one to use, but this might have been a case where I could have done more analysis on the difference and determined if one was more reliable or used an average of the two or something other than just randomly choosing one.  I also had situations where I just had way too much data when I created my graphs and had to figure out how to break them down in a way that made sense or just eliminate some of the data.\n",
    "    \n",
    "   Overall, I really enjoyed working on this project and found it very valuable.  I also have more ideas of ways that I could continue to analyze this data.  \n"
   ]
  },
  {
   "cell_type": "code",
   "execution_count": 1,
   "metadata": {},
   "outputs": [],
   "source": [
    "# import necessary libraries\n",
    "import sqlite3\n",
    "import pandas as pd"
   ]
  },
  {
   "cell_type": "code",
   "execution_count": 2,
   "metadata": {},
   "outputs": [],
   "source": [
    "# create a connection to the database\n",
    "conn = sqlite3.connect(\"alcohol_db\")"
   ]
  },
  {
   "cell_type": "code",
   "execution_count": 3,
   "metadata": {},
   "outputs": [],
   "source": [
    "# write a function to test the connection\n",
    "def is_opened(conn):\n",
    "    try:\n",
    "        conn.execute(\"SELECT * FROM Consumption LIMIT 1\")\n",
    "        return True\n",
    "    except sqlite3.ProgrammingError as e:\n",
    "        print(\"Connection closed {}\".format(e))\n",
    "        return False"
   ]
  },
  {
   "cell_type": "code",
   "execution_count": 4,
   "metadata": {},
   "outputs": [
    {
     "name": "stdout",
     "output_type": "stream",
     "text": [
      "True\n"
     ]
    }
   ],
   "source": [
    "# run the function to test the connection\n",
    "print (is_opened(conn))"
   ]
  },
  {
   "cell_type": "code",
   "execution_count": 5,
   "metadata": {},
   "outputs": [],
   "source": [
    "# create the connection cursor\n",
    "c = conn.cursor()"
   ]
  },
  {
   "cell_type": "code",
   "execution_count": 6,
   "metadata": {},
   "outputs": [
    {
     "name": "stdout",
     "output_type": "stream",
     "text": [
      "[('Consumption',), ('Alcohol_Consumption',), ('Countries',), ('Percent_Consumption',)]\n"
     ]
    }
   ],
   "source": [
    "# I added the code to add the tables to the databse in my separate notebooks\n",
    "# that I created for each milestone, so here I am checking to make sure the tables \n",
    "# are in the database.  Example code used to add tables:\n",
    "# consumption1.to_sql(\"Consumption\", con=conn, if_exists=\"append\", index=False)\n",
    "c.execute(\"SELECT name FROM sqlite_master WHERE type='table';\")\n",
    "print(c.fetchall())"
   ]
  },
  {
   "cell_type": "code",
   "execution_count": 7,
   "metadata": {},
   "outputs": [
    {
     "data": {
      "text/html": [
       "<div>\n",
       "<style scoped>\n",
       "    .dataframe tbody tr th:only-of-type {\n",
       "        vertical-align: middle;\n",
       "    }\n",
       "\n",
       "    .dataframe tbody tr th {\n",
       "        vertical-align: top;\n",
       "    }\n",
       "\n",
       "    .dataframe thead th {\n",
       "        text-align: right;\n",
       "    }\n",
       "</style>\n",
       "<table border=\"1\" class=\"dataframe\">\n",
       "  <thead>\n",
       "    <tr style=\"text-align: right;\">\n",
       "      <th></th>\n",
       "      <th>country</th>\n",
       "      <th>year</th>\n",
       "      <th>liters</th>\n",
       "      <th>total</th>\n",
       "      <th>beer_pct</th>\n",
       "      <th>wine_pct</th>\n",
       "      <th>spirits_pct</th>\n",
       "      <th>other_pct</th>\n",
       "      <th>2020projection</th>\n",
       "      <th>2025projection</th>\n",
       "      <th>region</th>\n",
       "      <th>happinessscore</th>\n",
       "      <th>gdp_percapita</th>\n",
       "      <th>beer_percapita</th>\n",
       "      <th>wine_percapita</th>\n",
       "      <th>total_percapita</th>\n",
       "    </tr>\n",
       "  </thead>\n",
       "  <tbody>\n",
       "    <tr>\n",
       "      <th>0</th>\n",
       "      <td>Albania</td>\n",
       "      <td>2018</td>\n",
       "      <td>7.17</td>\n",
       "      <td>7.5</td>\n",
       "      <td>34.3</td>\n",
       "      <td>26.5</td>\n",
       "      <td>37.6</td>\n",
       "      <td>1.7</td>\n",
       "      <td>8.3</td>\n",
       "      <td>9.2</td>\n",
       "      <td>Central and Eastern Europe</td>\n",
       "      <td>4.655</td>\n",
       "      <td>4.132</td>\n",
       "      <td>89</td>\n",
       "      <td>54</td>\n",
       "      <td>275</td>\n",
       "    </tr>\n",
       "    <tr>\n",
       "      <th>1</th>\n",
       "      <td>Angola</td>\n",
       "      <td>2018</td>\n",
       "      <td>6.94</td>\n",
       "      <td>6.4</td>\n",
       "      <td>70.3</td>\n",
       "      <td>17.6</td>\n",
       "      <td>11.3</td>\n",
       "      <td>0.8</td>\n",
       "      <td>6.1</td>\n",
       "      <td>6.6</td>\n",
       "      <td>Sub-Saharan Africa</td>\n",
       "      <td>3.866</td>\n",
       "      <td>3.309</td>\n",
       "      <td>217</td>\n",
       "      <td>45</td>\n",
       "      <td>319</td>\n",
       "    </tr>\n",
       "    <tr>\n",
       "      <th>2</th>\n",
       "      <td>Argentina</td>\n",
       "      <td>2018</td>\n",
       "      <td>9.65</td>\n",
       "      <td>9.8</td>\n",
       "      <td>39.9</td>\n",
       "      <td>40.2</td>\n",
       "      <td>9.6</td>\n",
       "      <td>10.3</td>\n",
       "      <td>10.0</td>\n",
       "      <td>10.3</td>\n",
       "      <td>Latin America and Caribbean</td>\n",
       "      <td>6.650</td>\n",
       "      <td>12.654</td>\n",
       "      <td>193</td>\n",
       "      <td>221</td>\n",
       "      <td>439</td>\n",
       "    </tr>\n",
       "    <tr>\n",
       "      <th>3</th>\n",
       "      <td>Armenia</td>\n",
       "      <td>2018</td>\n",
       "      <td>5.55</td>\n",
       "      <td>5.5</td>\n",
       "      <td>10.6</td>\n",
       "      <td>7.0</td>\n",
       "      <td>82.3</td>\n",
       "      <td>0.1</td>\n",
       "      <td>5.7</td>\n",
       "      <td>6.1</td>\n",
       "      <td>Central and Eastern Europe</td>\n",
       "      <td>4.360</td>\n",
       "      <td>3.606</td>\n",
       "      <td>21</td>\n",
       "      <td>11</td>\n",
       "      <td>211</td>\n",
       "    </tr>\n",
       "    <tr>\n",
       "      <th>4</th>\n",
       "      <td>Australia</td>\n",
       "      <td>2018</td>\n",
       "      <td>10.51</td>\n",
       "      <td>10.6</td>\n",
       "      <td>39.9</td>\n",
       "      <td>37.5</td>\n",
       "      <td>12.9</td>\n",
       "      <td>9.8</td>\n",
       "      <td>10.5</td>\n",
       "      <td>10.3</td>\n",
       "      <td>Australia and New Zealand</td>\n",
       "      <td>7.313</td>\n",
       "      <td>49.897</td>\n",
       "      <td>261</td>\n",
       "      <td>212</td>\n",
       "      <td>545</td>\n",
       "    </tr>\n",
       "  </tbody>\n",
       "</table>\n",
       "</div>"
      ],
      "text/plain": [
       "     country  year  liters  total  beer_pct  wine_pct  spirits_pct  other_pct  \\\n",
       "0    Albania  2018    7.17    7.5      34.3      26.5         37.6        1.7   \n",
       "1     Angola  2018    6.94    6.4      70.3      17.6         11.3        0.8   \n",
       "2  Argentina  2018    9.65    9.8      39.9      40.2          9.6       10.3   \n",
       "3    Armenia  2018    5.55    5.5      10.6       7.0         82.3        0.1   \n",
       "4  Australia  2018   10.51   10.6      39.9      37.5         12.9        9.8   \n",
       "\n",
       "   2020projection  2025projection                       region  \\\n",
       "0             8.3             9.2   Central and Eastern Europe   \n",
       "1             6.1             6.6           Sub-Saharan Africa   \n",
       "2            10.0            10.3  Latin America and Caribbean   \n",
       "3             5.7             6.1   Central and Eastern Europe   \n",
       "4            10.5            10.3    Australia and New Zealand   \n",
       "\n",
       "   happinessscore  gdp_percapita  beer_percapita  wine_percapita  \\\n",
       "0           4.655          4.132              89              54   \n",
       "1           3.866          3.309             217              45   \n",
       "2           6.650         12.654             193             221   \n",
       "3           4.360          3.606              21              11   \n",
       "4           7.313         49.897             261             212   \n",
       "\n",
       "   total_percapita  \n",
       "0              275  \n",
       "1              319  \n",
       "2              439  \n",
       "3              211  \n",
       "4              545  "
      ]
     },
     "execution_count": 7,
     "metadata": {},
     "output_type": "execute_result"
    }
   ],
   "source": [
    "# join the tables in one dataframe and view the first few rows\n",
    "merged_df = pd.read_sql('''SELECT A.country, year, liters, total, beer_pct, wine_pct, spirits_pct, other_pct, \"2020projection\", \"2025projection\", region, happinessscore, gdp_percapita, beer_percapita, wine_percapita, total_percapita FROM Countries A LEFT JOIN Percent_Consumption B ON A.country = B.country LEFT JOIN Consumption C ON A.country = C.country where B.country is not NULL AND C.Country is not NULL And year = 2018 ORDER BY A.country''', conn)\n",
    "merged_df.head()"
   ]
  },
  {
   "cell_type": "code",
   "execution_count": 8,
   "metadata": {},
   "outputs": [
    {
     "data": {
      "text/plain": [
       "(111, 16)"
      ]
     },
     "execution_count": 8,
     "metadata": {},
     "output_type": "execute_result"
    }
   ],
   "source": [
    "# view the size of the dataframe\n",
    "merged_df.shape"
   ]
  },
  {
   "cell_type": "code",
   "execution_count": 9,
   "metadata": {},
   "outputs": [],
   "source": [
    "# import libraries needed for graphs\n",
    "import pandas as pd\n",
    "import numpy as np\n",
    "import matplotlib.pyplot as plt\n",
    "import seaborn as sns"
   ]
  },
  {
   "cell_type": "markdown",
   "metadata": {},
   "source": [
    "##### For my first visualization, I chose to focus on the happiness index and GDP and see if I could identify a relationship between them and alcohol consumption.  I used a scatterplot for this."
   ]
  },
  {
   "cell_type": "code",
   "execution_count": 10,
   "metadata": {},
   "outputs": [
    {
     "data": {
      "image/png": "[encoded data removed]",
      "text/plain": [
       "<Figure size 432x288 with 1 Axes>"
      ]
     },
     "metadata": {
      "needs_background": "light"
     },
     "output_type": "display_data"
    }
   ],
   "source": [
    "# create scatter plot of alcohol and happiness\n",
    "plt.scatter(merged_df['liters'], merged_df['happinessscore'])\n",
    "plt.title(\"Happiness and Alcohol Consumption\")\n",
    "plt.ylabel(\"Happiness Score\")\n",
    "plt.xlabel(\"Total Acohol Consumption in Liters\")\n",
    "plt.show()"
   ]
  },
  {
   "cell_type": "markdown",
   "metadata": {},
   "source": [
    "##### Looking at the plot, there does not appear to be an obvious trend or relationship between alcohol consumption and happiness score.  Next I'll look at GDP"
   ]
  },
  {
   "cell_type": "code",
   "execution_count": 11,
   "metadata": {},
   "outputs": [
    {
     "data": {
      "image/png": "[encoded data removed]",
      "text/plain": [
       "<Figure size 432x288 with 1 Axes>"
      ]
     },
     "metadata": {
      "needs_background": "light"
     },
     "output_type": "display_data"
    }
   ],
   "source": [
    "# create scatterplot of alcohol consumption and GDP\n",
    "plt.scatter(merged_df['liters'], merged_df['gdp_percapita'])\n",
    "plt.title(\"GDP and Alcohol Consumption\")\n",
    "plt.ylim(0, 100)\n",
    "plt.ylabel(\"GDP Per Capita\")\n",
    "plt.xlabel(\"Total Acohol Consumption in Liters\")\n",
    "plt.show()"
   ]
  },
  {
   "cell_type": "markdown",
   "metadata": {},
   "source": [
    "##### Again, there does not appear to be a clear relationship between the two.  Out of curiosity, I decided to take alcohol consumption out of the analysis for one graph and see if happiness and GDP have a correlation."
   ]
  },
  {
   "cell_type": "code",
   "execution_count": 12,
   "metadata": {},
   "outputs": [
    {
     "data": {
      "image/png": "[encoded data removed]",
      "text/plain": [
       "<Figure size 432x288 with 1 Axes>"
      ]
     },
     "metadata": {
      "needs_background": "light"
     },
     "output_type": "display_data"
    }
   ],
   "source": [
    "# create scatter plot of GDP and happiness score\n",
    "plt.scatter(merged_df['happinessscore'], merged_df['gdp_percapita'])\n",
    "plt.ylim(0, 100)\n",
    "plt.title(\"GDP and Happiness\")\n",
    "plt.ylabel(\"GDP Per Capita\")\n",
    "plt.xlabel(\"Happiness Score\")\n",
    "plt.show()"
   ]
  },
  {
   "cell_type": "markdown",
   "metadata": {},
   "source": [
    "##### It does appear from this plot that there is a relationship where countries with higher GDP have a correlation to higher happiness score"
   ]
  },
  {
   "cell_type": "markdown",
   "metadata": {},
   "source": [
    "##### Next I would like to do some analysis based on region, so I created a dataframe from a select statement to group countries by region"
   ]
  },
  {
   "cell_type": "code",
   "execution_count": 13,
   "metadata": {},
   "outputs": [
    {
     "data": {
      "text/html": [
       "<div>\n",
       "<style scoped>\n",
       "    .dataframe tbody tr th:only-of-type {\n",
       "        vertical-align: middle;\n",
       "    }\n",
       "\n",
       "    .dataframe tbody tr th {\n",
       "        vertical-align: top;\n",
       "    }\n",
       "\n",
       "    .dataframe thead th {\n",
       "        text-align: right;\n",
       "    }\n",
       "</style>\n",
       "<table border=\"1\" class=\"dataframe\">\n",
       "  <thead>\n",
       "    <tr style=\"text-align: right;\">\n",
       "      <th></th>\n",
       "      <th>country</th>\n",
       "      <th>year</th>\n",
       "      <th>liters</th>\n",
       "      <th>total</th>\n",
       "      <th>beer_pct</th>\n",
       "      <th>wine_pct</th>\n",
       "      <th>spirits_pct</th>\n",
       "      <th>other_pct</th>\n",
       "      <th>2020projection</th>\n",
       "      <th>2025projection</th>\n",
       "      <th>region</th>\n",
       "      <th>happinessscore</th>\n",
       "      <th>gdp_percapita</th>\n",
       "      <th>beer_percapita</th>\n",
       "      <th>wine_percapita</th>\n",
       "      <th>total_percapita</th>\n",
       "    </tr>\n",
       "  </thead>\n",
       "  <tbody>\n",
       "    <tr>\n",
       "      <th>0</th>\n",
       "      <td>Australia</td>\n",
       "      <td>2018</td>\n",
       "      <td>10.51</td>\n",
       "      <td>10.6</td>\n",
       "      <td>39.9</td>\n",
       "      <td>37.5</td>\n",
       "      <td>12.9</td>\n",
       "      <td>9.8</td>\n",
       "      <td>10.5</td>\n",
       "      <td>10.3</td>\n",
       "      <td>Australia and New Zealand</td>\n",
       "      <td>7.313</td>\n",
       "      <td>49.897</td>\n",
       "      <td>261</td>\n",
       "      <td>212</td>\n",
       "      <td>545</td>\n",
       "    </tr>\n",
       "    <tr>\n",
       "      <th>1</th>\n",
       "      <td>New Zealand</td>\n",
       "      <td>2018</td>\n",
       "      <td>10.63</td>\n",
       "      <td>10.7</td>\n",
       "      <td>37.4</td>\n",
       "      <td>33.4</td>\n",
       "      <td>28.9</td>\n",
       "      <td>0.3</td>\n",
       "      <td>10.6</td>\n",
       "      <td>10.4</td>\n",
       "      <td>Australia and New Zealand</td>\n",
       "      <td>7.334</td>\n",
       "      <td>40.332</td>\n",
       "      <td>203</td>\n",
       "      <td>175</td>\n",
       "      <td>457</td>\n",
       "    </tr>\n",
       "    <tr>\n",
       "      <th>2</th>\n",
       "      <td>Albania</td>\n",
       "      <td>2018</td>\n",
       "      <td>7.17</td>\n",
       "      <td>7.5</td>\n",
       "      <td>34.3</td>\n",
       "      <td>26.5</td>\n",
       "      <td>37.6</td>\n",
       "      <td>1.7</td>\n",
       "      <td>8.3</td>\n",
       "      <td>9.2</td>\n",
       "      <td>Central and Eastern Europe</td>\n",
       "      <td>4.655</td>\n",
       "      <td>4.132</td>\n",
       "      <td>89</td>\n",
       "      <td>54</td>\n",
       "      <td>275</td>\n",
       "    </tr>\n",
       "    <tr>\n",
       "      <th>3</th>\n",
       "      <td>Armenia</td>\n",
       "      <td>2018</td>\n",
       "      <td>5.55</td>\n",
       "      <td>5.5</td>\n",
       "      <td>10.6</td>\n",
       "      <td>7.0</td>\n",
       "      <td>82.3</td>\n",
       "      <td>0.1</td>\n",
       "      <td>5.7</td>\n",
       "      <td>6.1</td>\n",
       "      <td>Central and Eastern Europe</td>\n",
       "      <td>4.360</td>\n",
       "      <td>3.606</td>\n",
       "      <td>21</td>\n",
       "      <td>11</td>\n",
       "      <td>211</td>\n",
       "    </tr>\n",
       "    <tr>\n",
       "      <th>4</th>\n",
       "      <td>Azerbaijan</td>\n",
       "      <td>2018</td>\n",
       "      <td>4.41</td>\n",
       "      <td>0.8</td>\n",
       "      <td>61.5</td>\n",
       "      <td>36.9</td>\n",
       "      <td>0.0</td>\n",
       "      <td>1.5</td>\n",
       "      <td>0.7</td>\n",
       "      <td>0.9</td>\n",
       "      <td>Central and Eastern Europe</td>\n",
       "      <td>5.291</td>\n",
       "      <td>3.881</td>\n",
       "      <td>21</td>\n",
       "      <td>5</td>\n",
       "      <td>72</td>\n",
       "    </tr>\n",
       "    <tr>\n",
       "      <th>...</th>\n",
       "      <td>...</td>\n",
       "      <td>...</td>\n",
       "      <td>...</td>\n",
       "      <td>...</td>\n",
       "      <td>...</td>\n",
       "      <td>...</td>\n",
       "      <td>...</td>\n",
       "      <td>...</td>\n",
       "      <td>...</td>\n",
       "      <td>...</td>\n",
       "      <td>...</td>\n",
       "      <td>...</td>\n",
       "      <td>...</td>\n",
       "      <td>...</td>\n",
       "      <td>...</td>\n",
       "      <td>...</td>\n",
       "    </tr>\n",
       "    <tr>\n",
       "      <th>106</th>\n",
       "      <td>Portugal</td>\n",
       "      <td>2018</td>\n",
       "      <td>12.03</td>\n",
       "      <td>12.3</td>\n",
       "      <td>26.1</td>\n",
       "      <td>61.5</td>\n",
       "      <td>7.7</td>\n",
       "      <td>4.7</td>\n",
       "      <td>11.8</td>\n",
       "      <td>11.0</td>\n",
       "      <td>Western Europe</td>\n",
       "      <td>5.123</td>\n",
       "      <td>19.872</td>\n",
       "      <td>194</td>\n",
       "      <td>339</td>\n",
       "      <td>600</td>\n",
       "    </tr>\n",
       "    <tr>\n",
       "      <th>107</th>\n",
       "      <td>Spain</td>\n",
       "      <td>2018</td>\n",
       "      <td>12.72</td>\n",
       "      <td>10.0</td>\n",
       "      <td>54.2</td>\n",
       "      <td>18.0</td>\n",
       "      <td>27.8</td>\n",
       "      <td>0.0</td>\n",
       "      <td>9.6</td>\n",
       "      <td>8.9</td>\n",
       "      <td>Western Europe</td>\n",
       "      <td>6.361</td>\n",
       "      <td>26.617</td>\n",
       "      <td>284</td>\n",
       "      <td>112</td>\n",
       "      <td>553</td>\n",
       "    </tr>\n",
       "    <tr>\n",
       "      <th>108</th>\n",
       "      <td>Sweden</td>\n",
       "      <td>2018</td>\n",
       "      <td>8.93</td>\n",
       "      <td>9.2</td>\n",
       "      <td>36.4</td>\n",
       "      <td>47.8</td>\n",
       "      <td>14.1</td>\n",
       "      <td>1.7</td>\n",
       "      <td>9.8</td>\n",
       "      <td>10.1</td>\n",
       "      <td>Western Europe</td>\n",
       "      <td>7.291</td>\n",
       "      <td>51.845</td>\n",
       "      <td>152</td>\n",
       "      <td>186</td>\n",
       "      <td>398</td>\n",
       "    </tr>\n",
       "    <tr>\n",
       "      <th>109</th>\n",
       "      <td>Switzerland</td>\n",
       "      <td>2018</td>\n",
       "      <td>11.53</td>\n",
       "      <td>11.5</td>\n",
       "      <td>32.1</td>\n",
       "      <td>48.1</td>\n",
       "      <td>18.5</td>\n",
       "      <td>1.2</td>\n",
       "      <td>10.9</td>\n",
       "      <td>10.3</td>\n",
       "      <td>Western Europe</td>\n",
       "      <td>7.509</td>\n",
       "      <td>79.866</td>\n",
       "      <td>185</td>\n",
       "      <td>280</td>\n",
       "      <td>565</td>\n",
       "    </tr>\n",
       "    <tr>\n",
       "      <th>110</th>\n",
       "      <td>United Kingdom</td>\n",
       "      <td>2018</td>\n",
       "      <td>11.45</td>\n",
       "      <td>11.4</td>\n",
       "      <td>35.0</td>\n",
       "      <td>35.7</td>\n",
       "      <td>22.5</td>\n",
       "      <td>6.7</td>\n",
       "      <td>11.5</td>\n",
       "      <td>11.8</td>\n",
       "      <td>Western Europe</td>\n",
       "      <td>6.725</td>\n",
       "      <td>40.412</td>\n",
       "      <td>219</td>\n",
       "      <td>195</td>\n",
       "      <td>540</td>\n",
       "    </tr>\n",
       "  </tbody>\n",
       "</table>\n",
       "<p>111 rows × 16 columns</p>\n",
       "</div>"
      ],
      "text/plain": [
       "            country  year  liters  total  beer_pct  wine_pct  spirits_pct  \\\n",
       "0         Australia  2018   10.51   10.6      39.9      37.5         12.9   \n",
       "1       New Zealand  2018   10.63   10.7      37.4      33.4         28.9   \n",
       "2           Albania  2018    7.17    7.5      34.3      26.5         37.6   \n",
       "3           Armenia  2018    5.55    5.5      10.6       7.0         82.3   \n",
       "4        Azerbaijan  2018    4.41    0.8      61.5      36.9          0.0   \n",
       "..              ...   ...     ...    ...       ...       ...          ...   \n",
       "106        Portugal  2018   12.03   12.3      26.1      61.5          7.7   \n",
       "107           Spain  2018   12.72   10.0      54.2      18.0         27.8   \n",
       "108          Sweden  2018    8.93    9.2      36.4      47.8         14.1   \n",
       "109     Switzerland  2018   11.53   11.5      32.1      48.1         18.5   \n",
       "110  United Kingdom  2018   11.45   11.4      35.0      35.7         22.5   \n",
       "\n",
       "     other_pct  2020projection  2025projection                      region  \\\n",
       "0          9.8            10.5            10.3   Australia and New Zealand   \n",
       "1          0.3            10.6            10.4   Australia and New Zealand   \n",
       "2          1.7             8.3             9.2  Central and Eastern Europe   \n",
       "3          0.1             5.7             6.1  Central and Eastern Europe   \n",
       "4          1.5             0.7             0.9  Central and Eastern Europe   \n",
       "..         ...             ...             ...                         ...   \n",
       "106        4.7            11.8            11.0              Western Europe   \n",
       "107        0.0             9.6             8.9              Western Europe   \n",
       "108        1.7             9.8            10.1              Western Europe   \n",
       "109        1.2            10.9            10.3              Western Europe   \n",
       "110        6.7            11.5            11.8              Western Europe   \n",
       "\n",
       "     happinessscore  gdp_percapita  beer_percapita  wine_percapita  \\\n",
       "0             7.313         49.897             261             212   \n",
       "1             7.334         40.332             203             175   \n",
       "2             4.655          4.132              89              54   \n",
       "3             4.360          3.606              21              11   \n",
       "4             5.291          3.881              21               5   \n",
       "..              ...            ...             ...             ...   \n",
       "106           5.123         19.872             194             339   \n",
       "107           6.361         26.617             284             112   \n",
       "108           7.291         51.845             152             186   \n",
       "109           7.509         79.866             185             280   \n",
       "110           6.725         40.412             219             195   \n",
       "\n",
       "     total_percapita  \n",
       "0                545  \n",
       "1                457  \n",
       "2                275  \n",
       "3                211  \n",
       "4                 72  \n",
       "..               ...  \n",
       "106              600  \n",
       "107              553  \n",
       "108              398  \n",
       "109              565  \n",
       "110              540  \n",
       "\n",
       "[111 rows x 16 columns]"
      ]
     },
     "execution_count": 13,
     "metadata": {},
     "output_type": "execute_result"
    }
   ],
   "source": [
    "# group countries by region and put into a new dataframe\n",
    "region_df = pd.read_sql('''SELECT A.country, year, liters, total, \"beer_pct\", \"wine_pct\", \"spirits_pct\", \"other_pct\", \"2020projection\", \"2025projection\", region, happinessscore, gdp_percapita, beer_percapita, wine_percapita, total_percapita FROM Countries A LEFT JOIN Percent_Consumption B ON A.country = B.country LEFT JOIN Consumption C ON A.country = C.country where B.country is not NULL AND C.Country is not NULL And year = 2018 ORDER BY region''', conn)\n",
    "region_df"
   ]
  },
  {
   "cell_type": "code",
   "execution_count": 14,
   "metadata": {},
   "outputs": [
    {
     "data": {
      "text/plain": [
       "[('Australia and New Zealand', 21.299999999999997),\n",
       " ('Central and Eastern Europe', 241.29999999999995),\n",
       " ('Eastern Asia', 32.800000000000004),\n",
       " ('Latin America and Caribbean', 143.39999999999998),\n",
       " ('Middle East and Northern Africa', 18.9),\n",
       " ('North America', 18.700000000000003),\n",
       " ('Southeastern Asia', 31.9),\n",
       " ('Sub-Saharan Africa', 132.70000000000002),\n",
       " ('Western Europe', 213.29999999999995)]"
      ]
     },
     "execution_count": 14,
     "metadata": {},
     "output_type": "execute_result"
    }
   ],
   "source": [
    "# from the regional dataframe sum the total consumption for each region\n",
    "c.execute(\"Select region, SUM(total) FROM Percent_Consumption A JOIN Consumption B on A.country = B.country GROUP BY B.region\")\n",
    "region_total = c.fetchall()\n",
    "region_total"
   ]
  },
  {
   "cell_type": "code",
   "execution_count": 15,
   "metadata": {},
   "outputs": [
    {
     "data": {
      "text/plain": [
       "['Australia and New Zealand',\n",
       " 'Central and Eastern Europe',\n",
       " 'Eastern Asia',\n",
       " 'Latin America and Caribbean',\n",
       " 'Middle East and Northern Africa',\n",
       " 'North America',\n",
       " 'Southeastern Asia',\n",
       " 'Sub-Saharan Africa',\n",
       " 'Western Europe']"
      ]
     },
     "execution_count": 15,
     "metadata": {},
     "output_type": "execute_result"
    }
   ],
   "source": [
    "# since I want to use this in a graph it will be easier to work with to select the region \n",
    "# and total separately as lists\n",
    "# used row_factory to return a list instead of a tuple\n",
    "c.execute(\"Select region FROM Consumption GROUP BY region\")\n",
    "c.row_factory = lambda cursor, row: row[0]\n",
    "region = c.fetchall()\n",
    "region"
   ]
  },
  {
   "cell_type": "code",
   "execution_count": 16,
   "metadata": {},
   "outputs": [
    {
     "data": {
      "text/plain": [
       "[21.299999999999997,\n",
       " 241.29999999999995,\n",
       " 32.800000000000004,\n",
       " 143.39999999999998,\n",
       " 18.9,\n",
       " 18.700000000000003,\n",
       " 31.9,\n",
       " 132.70000000000002,\n",
       " 213.29999999999995]"
      ]
     },
     "execution_count": 16,
     "metadata": {},
     "output_type": "execute_result"
    }
   ],
   "source": [
    "# create list of total consumption by region\n",
    "c.execute(\"Select SUM(total) FROM Percent_Consumption A JOIN Consumption B on A.country = B.country GROUP BY B.region\")\n",
    "region_total = c.fetchall()\n",
    "region_total"
   ]
  },
  {
   "cell_type": "code",
   "execution_count": 17,
   "metadata": {},
   "outputs": [
    {
     "data": {
      "image/png": "[encoded data removed]",
      "text/plain": [
       "<Figure size 432x288 with 1 Axes>"
      ]
     },
     "metadata": {},
     "output_type": "display_data"
    }
   ],
   "source": [
    "# Create a pie chart to show Consumption by Region\n",
    "\n",
    "plt.figure()\n",
    "\n",
    "plt.pie(region_total, labels = region)\n",
    "plt.title(\"World Alcohol Consumption by Region\")\n",
    "plt.show()"
   ]
  },
  {
   "cell_type": "markdown",
   "metadata": {},
   "source": [
    "##### The pie chart shows the total world alcohol consumption per region. European countries have a clearly larger amount of consumption than other regions."
   ]
  },
  {
   "cell_type": "markdown",
   "metadata": {},
   "source": [
    "##### Next I decided to do some analysis on types of alcohol consumed"
   ]
  },
  {
   "cell_type": "code",
   "execution_count": 18,
   "metadata": {},
   "outputs": [
    {
     "data": {
      "text/plain": [
       "[('United States', 47.0, 18.1, 34.9, 0.0)]"
      ]
     },
     "execution_count": 18,
     "metadata": {},
     "output_type": "execute_result"
    }
   ],
   "source": [
    "# For the United States only, select the percents of each type of alcohol consumed\n",
    "c = conn.cursor()\n",
    "c.execute(\"Select country, beer_pct, wine_pct, spirits_pct, other_pct FROM Percent_Consumption WHERE country = 'United States'\")\n",
    "c.fetchall()"
   ]
  },
  {
   "cell_type": "code",
   "execution_count": 19,
   "metadata": {},
   "outputs": [
    {
     "data": {
      "text/html": [
       "<div>\n",
       "<style scoped>\n",
       "    .dataframe tbody tr th:only-of-type {\n",
       "        vertical-align: middle;\n",
       "    }\n",
       "\n",
       "    .dataframe tbody tr th {\n",
       "        vertical-align: top;\n",
       "    }\n",
       "\n",
       "    .dataframe thead th {\n",
       "        text-align: right;\n",
       "    }\n",
       "</style>\n",
       "<table border=\"1\" class=\"dataframe\">\n",
       "  <thead>\n",
       "    <tr style=\"text-align: right;\">\n",
       "      <th></th>\n",
       "      <th>country</th>\n",
       "      <th>total</th>\n",
       "      <th>beer_pct</th>\n",
       "      <th>wine_pct</th>\n",
       "      <th>spirits_pct</th>\n",
       "      <th>other_pct</th>\n",
       "      <th>region</th>\n",
       "    </tr>\n",
       "  </thead>\n",
       "  <tbody>\n",
       "    <tr>\n",
       "      <th>0</th>\n",
       "      <td>Canada</td>\n",
       "      <td>8.9</td>\n",
       "      <td>45.1</td>\n",
       "      <td>25.6</td>\n",
       "      <td>25.6</td>\n",
       "      <td>3.7</td>\n",
       "      <td>North America</td>\n",
       "    </tr>\n",
       "    <tr>\n",
       "      <th>1</th>\n",
       "      <td>United States</td>\n",
       "      <td>9.8</td>\n",
       "      <td>47.0</td>\n",
       "      <td>18.1</td>\n",
       "      <td>34.9</td>\n",
       "      <td>0.0</td>\n",
       "      <td>North America</td>\n",
       "    </tr>\n",
       "  </tbody>\n",
       "</table>\n",
       "</div>"
      ],
      "text/plain": [
       "         country  total  beer_pct  wine_pct  spirits_pct  other_pct  \\\n",
       "0         Canada    8.9      45.1      25.6         25.6        3.7   \n",
       "1  United States    9.8      47.0      18.1         34.9        0.0   \n",
       "\n",
       "          region  \n",
       "0  North America  \n",
       "1  North America  "
      ]
     },
     "execution_count": 19,
     "metadata": {},
     "output_type": "execute_result"
    }
   ],
   "source": [
    "# Select percent of each type of alcohol for North America\n",
    "NAmerica_type = pd.read_sql('''SELECT A.country, total, beer_pct, wine_pct, spirits_pct, other_pct, B.region FROM Percent_Consumption A JOIN Consumption B ON A.country = B.country Where region = \"North America\"''', conn)\n",
    "NAmerica_type"
   ]
  },
  {
   "cell_type": "code",
   "execution_count": 20,
   "metadata": {},
   "outputs": [
    {
     "data": {
      "text/html": [
       "<div>\n",
       "<style scoped>\n",
       "    .dataframe tbody tr th:only-of-type {\n",
       "        vertical-align: middle;\n",
       "    }\n",
       "\n",
       "    .dataframe tbody tr th {\n",
       "        vertical-align: top;\n",
       "    }\n",
       "\n",
       "    .dataframe thead th {\n",
       "        text-align: right;\n",
       "    }\n",
       "</style>\n",
       "<table border=\"1\" class=\"dataframe\">\n",
       "  <thead>\n",
       "    <tr style=\"text-align: right;\">\n",
       "      <th></th>\n",
       "      <th>country</th>\n",
       "      <th>total</th>\n",
       "      <th>beer_pct</th>\n",
       "      <th>wine_pct</th>\n",
       "      <th>spirits_pct</th>\n",
       "      <th>other_pct</th>\n",
       "      <th>region</th>\n",
       "    </tr>\n",
       "  </thead>\n",
       "  <tbody>\n",
       "    <tr>\n",
       "      <th>0</th>\n",
       "      <td>Czech Republic</td>\n",
       "      <td>14.4</td>\n",
       "      <td>53.3</td>\n",
       "      <td>21.3</td>\n",
       "      <td>25.4</td>\n",
       "      <td>0.0</td>\n",
       "      <td>Central and Eastern Europe</td>\n",
       "    </tr>\n",
       "    <tr>\n",
       "      <th>1</th>\n",
       "      <td>Slovakia</td>\n",
       "      <td>11.5</td>\n",
       "      <td>33.7</td>\n",
       "      <td>20.9</td>\n",
       "      <td>41.9</td>\n",
       "      <td>3.5</td>\n",
       "      <td>Central and Eastern Europe</td>\n",
       "    </tr>\n",
       "    <tr>\n",
       "      <th>2</th>\n",
       "      <td>Uzbekistan</td>\n",
       "      <td>2.7</td>\n",
       "      <td>34.4</td>\n",
       "      <td>8.6</td>\n",
       "      <td>56.9</td>\n",
       "      <td>0.0</td>\n",
       "      <td>Central and Eastern Europe</td>\n",
       "    </tr>\n",
       "    <tr>\n",
       "      <th>3</th>\n",
       "      <td>Kazakhstan</td>\n",
       "      <td>7.7</td>\n",
       "      <td>30.5</td>\n",
       "      <td>6.5</td>\n",
       "      <td>62.9</td>\n",
       "      <td>0.0</td>\n",
       "      <td>Central and Eastern Europe</td>\n",
       "    </tr>\n",
       "    <tr>\n",
       "      <th>4</th>\n",
       "      <td>Moldova</td>\n",
       "      <td>15.2</td>\n",
       "      <td>16.2</td>\n",
       "      <td>56.6</td>\n",
       "      <td>25.2</td>\n",
       "      <td>2.0</td>\n",
       "      <td>Central and Eastern Europe</td>\n",
       "    </tr>\n",
       "  </tbody>\n",
       "</table>\n",
       "</div>"
      ],
      "text/plain": [
       "          country  total  beer_pct  wine_pct  spirits_pct  other_pct  \\\n",
       "0  Czech Republic   14.4      53.3      21.3         25.4        0.0   \n",
       "1        Slovakia   11.5      33.7      20.9         41.9        3.5   \n",
       "2      Uzbekistan    2.7      34.4       8.6         56.9        0.0   \n",
       "3      Kazakhstan    7.7      30.5       6.5         62.9        0.0   \n",
       "4         Moldova   15.2      16.2      56.6         25.2        2.0   \n",
       "\n",
       "                       region  \n",
       "0  Central and Eastern Europe  \n",
       "1  Central and Eastern Europe  \n",
       "2  Central and Eastern Europe  \n",
       "3  Central and Eastern Europe  \n",
       "4  Central and Eastern Europe  "
      ]
     },
     "execution_count": 20,
     "metadata": {},
     "output_type": "execute_result"
    }
   ],
   "source": [
    "# Select percent of each type of alcohol for Central and Eastern Europe\n",
    "CEEurope_type = pd.read_sql('''SELECT A.country, total, beer_pct, wine_pct, spirits_pct, other_pct, B.region FROM Percent_Consumption A JOIN Consumption B ON A.country = B.country Where region=\"Central and Eastern Europe\"''', conn)\n",
    "CEEurope_type.head()"
   ]
  },
  {
   "cell_type": "code",
   "execution_count": 21,
   "metadata": {},
   "outputs": [
    {
     "data": {
      "text/html": [
       "<div>\n",
       "<style scoped>\n",
       "    .dataframe tbody tr th:only-of-type {\n",
       "        vertical-align: middle;\n",
       "    }\n",
       "\n",
       "    .dataframe tbody tr th {\n",
       "        vertical-align: top;\n",
       "    }\n",
       "\n",
       "    .dataframe thead th {\n",
       "        text-align: right;\n",
       "    }\n",
       "</style>\n",
       "<table border=\"1\" class=\"dataframe\">\n",
       "  <thead>\n",
       "    <tr style=\"text-align: right;\">\n",
       "      <th></th>\n",
       "      <th>country</th>\n",
       "      <th>total</th>\n",
       "      <th>beer_pct</th>\n",
       "      <th>wine_pct</th>\n",
       "      <th>spirits_pct</th>\n",
       "      <th>other_pct</th>\n",
       "      <th>region</th>\n",
       "    </tr>\n",
       "  </thead>\n",
       "  <tbody>\n",
       "    <tr>\n",
       "      <th>0</th>\n",
       "      <td>Denmark</td>\n",
       "      <td>10.4</td>\n",
       "      <td>37.4</td>\n",
       "      <td>44.7</td>\n",
       "      <td>17.1</td>\n",
       "      <td>0.8</td>\n",
       "      <td>Western Europe</td>\n",
       "    </tr>\n",
       "    <tr>\n",
       "      <th>1</th>\n",
       "      <td>Switzerland</td>\n",
       "      <td>11.5</td>\n",
       "      <td>32.1</td>\n",
       "      <td>48.1</td>\n",
       "      <td>18.5</td>\n",
       "      <td>1.2</td>\n",
       "      <td>Western Europe</td>\n",
       "    </tr>\n",
       "    <tr>\n",
       "      <th>2</th>\n",
       "      <td>Iceland</td>\n",
       "      <td>9.1</td>\n",
       "      <td>56.5</td>\n",
       "      <td>27.9</td>\n",
       "      <td>15.5</td>\n",
       "      <td>0.0</td>\n",
       "      <td>Western Europe</td>\n",
       "    </tr>\n",
       "    <tr>\n",
       "      <th>3</th>\n",
       "      <td>Norway</td>\n",
       "      <td>7.5</td>\n",
       "      <td>43.9</td>\n",
       "      <td>36.7</td>\n",
       "      <td>16.7</td>\n",
       "      <td>2.7</td>\n",
       "      <td>Western Europe</td>\n",
       "    </tr>\n",
       "    <tr>\n",
       "      <th>4</th>\n",
       "      <td>Finland</td>\n",
       "      <td>10.7</td>\n",
       "      <td>48.8</td>\n",
       "      <td>20.6</td>\n",
       "      <td>21.5</td>\n",
       "      <td>9.1</td>\n",
       "      <td>Western Europe</td>\n",
       "    </tr>\n",
       "  </tbody>\n",
       "</table>\n",
       "</div>"
      ],
      "text/plain": [
       "       country  total  beer_pct  wine_pct  spirits_pct  other_pct  \\\n",
       "0      Denmark   10.4      37.4      44.7         17.1        0.8   \n",
       "1  Switzerland   11.5      32.1      48.1         18.5        1.2   \n",
       "2      Iceland    9.1      56.5      27.9         15.5        0.0   \n",
       "3       Norway    7.5      43.9      36.7         16.7        2.7   \n",
       "4      Finland   10.7      48.8      20.6         21.5        9.1   \n",
       "\n",
       "           region  \n",
       "0  Western Europe  \n",
       "1  Western Europe  \n",
       "2  Western Europe  \n",
       "3  Western Europe  \n",
       "4  Western Europe  "
      ]
     },
     "execution_count": 21,
     "metadata": {},
     "output_type": "execute_result"
    }
   ],
   "source": [
    "# Select percent of each type of alcohol for Western Europe\n",
    "WEurope_type = pd.read_sql('''SELECT A.country, total, beer_pct, wine_pct, spirits_pct, other_pct, B.region FROM Percent_Consumption A JOIN Consumption B ON A.country = B.country Where region=\"Western Europe\"''', conn)\n",
    "WEurope_type.head()"
   ]
  },
  {
   "cell_type": "code",
   "execution_count": 22,
   "metadata": {},
   "outputs": [
    {
     "data": {
      "text/html": [
       "<div>\n",
       "<style scoped>\n",
       "    .dataframe tbody tr th:only-of-type {\n",
       "        vertical-align: middle;\n",
       "    }\n",
       "\n",
       "    .dataframe tbody tr th {\n",
       "        vertical-align: top;\n",
       "    }\n",
       "\n",
       "    .dataframe thead th {\n",
       "        text-align: right;\n",
       "    }\n",
       "</style>\n",
       "<table border=\"1\" class=\"dataframe\">\n",
       "  <thead>\n",
       "    <tr style=\"text-align: right;\">\n",
       "      <th></th>\n",
       "      <th>country</th>\n",
       "      <th>total</th>\n",
       "      <th>beer_pct</th>\n",
       "      <th>wine_pct</th>\n",
       "      <th>spirits_pct</th>\n",
       "      <th>other_pct</th>\n",
       "      <th>region</th>\n",
       "    </tr>\n",
       "  </thead>\n",
       "  <tbody>\n",
       "    <tr>\n",
       "      <th>0</th>\n",
       "      <td>Costa Rica</td>\n",
       "      <td>4.8</td>\n",
       "      <td>64.1</td>\n",
       "      <td>7.2</td>\n",
       "      <td>27.9</td>\n",
       "      <td>0.8</td>\n",
       "      <td>Latin America and Caribbean</td>\n",
       "    </tr>\n",
       "    <tr>\n",
       "      <th>1</th>\n",
       "      <td>Brazil</td>\n",
       "      <td>7.8</td>\n",
       "      <td>61.8</td>\n",
       "      <td>3.4</td>\n",
       "      <td>34.3</td>\n",
       "      <td>0.5</td>\n",
       "      <td>Latin America and Caribbean</td>\n",
       "    </tr>\n",
       "    <tr>\n",
       "      <th>2</th>\n",
       "      <td>Mexico</td>\n",
       "      <td>6.5</td>\n",
       "      <td>77.1</td>\n",
       "      <td>2.1</td>\n",
       "      <td>20.4</td>\n",
       "      <td>0.5</td>\n",
       "      <td>Latin America and Caribbean</td>\n",
       "    </tr>\n",
       "    <tr>\n",
       "      <th>3</th>\n",
       "      <td>Chile</td>\n",
       "      <td>9.3</td>\n",
       "      <td>36.1</td>\n",
       "      <td>33.1</td>\n",
       "      <td>30.8</td>\n",
       "      <td>0.0</td>\n",
       "      <td>Latin America and Caribbean</td>\n",
       "    </tr>\n",
       "    <tr>\n",
       "      <th>4</th>\n",
       "      <td>Panama</td>\n",
       "      <td>7.9</td>\n",
       "      <td>76.9</td>\n",
       "      <td>3.5</td>\n",
       "      <td>19.4</td>\n",
       "      <td>0.3</td>\n",
       "      <td>Latin America and Caribbean</td>\n",
       "    </tr>\n",
       "  </tbody>\n",
       "</table>\n",
       "</div>"
      ],
      "text/plain": [
       "      country  total  beer_pct  wine_pct  spirits_pct  other_pct  \\\n",
       "0  Costa Rica    4.8      64.1       7.2         27.9        0.8   \n",
       "1      Brazil    7.8      61.8       3.4         34.3        0.5   \n",
       "2      Mexico    6.5      77.1       2.1         20.4        0.5   \n",
       "3       Chile    9.3      36.1      33.1         30.8        0.0   \n",
       "4      Panama    7.9      76.9       3.5         19.4        0.3   \n",
       "\n",
       "                        region  \n",
       "0  Latin America and Caribbean  \n",
       "1  Latin America and Caribbean  \n",
       "2  Latin America and Caribbean  \n",
       "3  Latin America and Caribbean  \n",
       "4  Latin America and Caribbean  "
      ]
     },
     "execution_count": 22,
     "metadata": {},
     "output_type": "execute_result"
    }
   ],
   "source": [
    "# Select percent of each type of alcohol for Latin America and Caribbean\n",
    "LAmCarib_type = pd.read_sql('''SELECT A.country, total, beer_pct, wine_pct, spirits_pct, other_pct, B.region FROM Percent_Consumption A JOIN Consumption B ON A.country = B.country Where region=\"Latin America and Caribbean\"''', conn)\n",
    "LAmCarib_type.head()"
   ]
  },
  {
   "cell_type": "markdown",
   "metadata": {},
   "source": [
    "##### Since there was way too much data for one graph, I decided to create a separate graph for each region which shows each country withiin that region and how their alcohol consumption is broken down by beer, wine, spirits and other"
   ]
  },
  {
   "cell_type": "code",
   "execution_count": 23,
   "metadata": {},
   "outputs": [
    {
     "data": {
      "image/png": "[encoded data removed]",
      "text/plain": [
       "<Figure size 504x432 with 1 Axes>"
      ]
     },
     "metadata": {
      "needs_background": "light"
     },
     "output_type": "display_data"
    }
   ],
   "source": [
    "# create bar plot of North America breakdown\n",
    "NAmerica_type.plot(x=\"country\", y=[\"beer_pct\", \"wine_pct\", \"spirits_pct\", \"other_pct\"], kind=\"bar\",figsize=(7,6))\n",
    "plt.title(\"North America\")\n",
    "plt.ylabel(\"Percent of total consumption\")\n",
    "plt.show()\n"
   ]
  },
  {
   "cell_type": "markdown",
   "metadata": {},
   "source": [
    "##### Beer seems to be the favored choice in North America"
   ]
  },
  {
   "cell_type": "code",
   "execution_count": 24,
   "metadata": {},
   "outputs": [
    {
     "data": {
      "image/png": "[encoded data removed]",
      "text/plain": [
       "<Figure size 1080x432 with 1 Axes>"
      ]
     },
     "metadata": {
      "needs_background": "light"
     },
     "output_type": "display_data"
    }
   ],
   "source": [
    "# create bar plot of Western Europe breakdown\n",
    "WEurope_type.plot(x=\"country\", y=[\"beer_pct\", \"wine_pct\", \"spirits_pct\", \"other_pct\"], kind=\"bar\",figsize=(15,6))\n",
    "plt.title(\"Western Europe\")\n",
    "plt.ylabel(\"Percent of total consumption\")\n",
    "plt.show()"
   ]
  },
  {
   "cell_type": "markdown",
   "metadata": {},
   "source": [
    "##### In Western European countries, wine has a much stronger presence, especially in Italy and France, as we would expect."
   ]
  },
  {
   "cell_type": "code",
   "execution_count": 25,
   "metadata": {},
   "outputs": [
    {
     "data": {
      "image/png": "[encoded data removed]",
      "text/plain": [
       "<Figure size 1080x432 with 1 Axes>"
      ]
     },
     "metadata": {
      "needs_background": "light"
     },
     "output_type": "display_data"
    }
   ],
   "source": [
    "# create bar plot of Central and Eastern Europe breakdown\n",
    "CEEurope_type.plot(x=\"country\", y=[\"beer_pct\", \"wine_pct\", \"spirits_pct\", \"other_pct\"], kind=\"bar\",figsize=(15,6))\n",
    "plt.title(\"Central and Eastern Europe\")\n",
    "plt.ylabel(\"Percent of total consumption\")\n",
    "plt.show()"
   ]
  },
  {
   "cell_type": "markdown",
   "metadata": {},
   "source": [
    "##### In Central and Eastern Europe we see a higher percentage of spirits than we did in other regions"
   ]
  },
  {
   "cell_type": "code",
   "execution_count": 26,
   "metadata": {},
   "outputs": [
    {
     "data": {
      "image/png": "[encoded data removed]",
      "text/plain": [
       "<Figure size 1440x432 with 1 Axes>"
      ]
     },
     "metadata": {
      "needs_background": "light"
     },
     "output_type": "display_data"
    }
   ],
   "source": [
    "# create bar plot of Latin America and Caribbean breakdown\n",
    "LAmCarib_type.plot(x=\"country\", y=[\"beer_pct\", \"wine_pct\", \"spirits_pct\", \"other_pct\"], kind=\"bar\",figsize=(20,6))\n",
    "plt.title(\"Latin America and Caribbean\")\n",
    "plt.ylabel(\"Percent of total consumption\")\n",
    "plt.show()"
   ]
  },
  {
   "cell_type": "markdown",
   "metadata": {},
   "source": [
    "##### Latin America and the Caribbean also show a strong presence of spirits, along with beer, with only a few countries having much wine consumption at all."
   ]
  },
  {
   "cell_type": "markdown",
   "metadata": {},
   "source": [
    "##### One of my datasets included projections of how the consumption would change by 2020 and 2025 (current data was from 2018) so I would like to compare some of those projections.  This was a situation where my initial graph had too many lines and didn't make sense, so I selected a handful of countries that I was interested in to compare."
   ]
  },
  {
   "cell_type": "code",
   "execution_count": 27,
   "metadata": {},
   "outputs": [
    {
     "data": {
      "text/html": [
       "<div>\n",
       "<style scoped>\n",
       "    .dataframe tbody tr th:only-of-type {\n",
       "        vertical-align: middle;\n",
       "    }\n",
       "\n",
       "    .dataframe tbody tr th {\n",
       "        vertical-align: top;\n",
       "    }\n",
       "\n",
       "    .dataframe thead th {\n",
       "        text-align: right;\n",
       "    }\n",
       "</style>\n",
       "<table border=\"1\" class=\"dataframe\">\n",
       "  <thead>\n",
       "    <tr style=\"text-align: right;\">\n",
       "      <th></th>\n",
       "      <th>country</th>\n",
       "      <th>total</th>\n",
       "      <th>2020projection</th>\n",
       "      <th>2025projection</th>\n",
       "    </tr>\n",
       "  </thead>\n",
       "  <tbody>\n",
       "    <tr>\n",
       "      <th>0</th>\n",
       "      <td>Germany</td>\n",
       "      <td>13.4</td>\n",
       "      <td>12.8</td>\n",
       "      <td>12.6</td>\n",
       "    </tr>\n",
       "    <tr>\n",
       "      <th>1</th>\n",
       "      <td>Ireland</td>\n",
       "      <td>13.0</td>\n",
       "      <td>13.5</td>\n",
       "      <td>13.9</td>\n",
       "    </tr>\n",
       "    <tr>\n",
       "      <th>2</th>\n",
       "      <td>France</td>\n",
       "      <td>12.6</td>\n",
       "      <td>12.3</td>\n",
       "      <td>12.1</td>\n",
       "    </tr>\n",
       "    <tr>\n",
       "      <th>3</th>\n",
       "      <td>United Kingdom</td>\n",
       "      <td>11.4</td>\n",
       "      <td>11.5</td>\n",
       "      <td>11.8</td>\n",
       "    </tr>\n",
       "    <tr>\n",
       "      <th>4</th>\n",
       "      <td>United States</td>\n",
       "      <td>9.8</td>\n",
       "      <td>10.1</td>\n",
       "      <td>10.3</td>\n",
       "    </tr>\n",
       "    <tr>\n",
       "      <th>5</th>\n",
       "      <td>Canada</td>\n",
       "      <td>8.9</td>\n",
       "      <td>9.1</td>\n",
       "      <td>9.2</td>\n",
       "    </tr>\n",
       "    <tr>\n",
       "      <th>6</th>\n",
       "      <td>Italy</td>\n",
       "      <td>7.5</td>\n",
       "      <td>7.0</td>\n",
       "      <td>6.1</td>\n",
       "    </tr>\n",
       "    <tr>\n",
       "      <th>7</th>\n",
       "      <td>Mexico</td>\n",
       "      <td>6.5</td>\n",
       "      <td>7.0</td>\n",
       "      <td>7.7</td>\n",
       "    </tr>\n",
       "  </tbody>\n",
       "</table>\n",
       "</div>"
      ],
      "text/plain": [
       "          country  total  2020projection  2025projection\n",
       "0         Germany   13.4            12.8            12.6\n",
       "1         Ireland   13.0            13.5            13.9\n",
       "2          France   12.6            12.3            12.1\n",
       "3  United Kingdom   11.4            11.5            11.8\n",
       "4   United States    9.8            10.1            10.3\n",
       "5          Canada    8.9             9.1             9.2\n",
       "6           Italy    7.5             7.0             6.1\n",
       "7          Mexico    6.5             7.0             7.7"
      ]
     },
     "execution_count": 27,
     "metadata": {},
     "output_type": "execute_result"
    }
   ],
   "source": [
    "# Select the current total and projection values for a small set of countries\n",
    "country_proj= pd.read_sql('''Select A.country, total, \"2020projection\", \"2025projection\" FROM Percent_Consumption A JOIN Consumption B ON A.country = B.country WHERE A.country IN (\"United States\", \"Italy\", \"Germany\", \"Ireland\", \"United Kingdom\", \"France\", \"Canada\", \"Mexico\")''', conn)\n",
    "country_proj"
   ]
  },
  {
   "cell_type": "code",
   "execution_count": 30,
   "metadata": {},
   "outputs": [
    {
     "data": {
      "text/plain": [
       "<matplotlib.legend.Legend at 0x7fd769e7c100>"
      ]
     },
     "execution_count": 30,
     "metadata": {},
     "output_type": "execute_result"
    },
    {
     "data": {
      "image/png": "[encoded data removed]",
      "text/plain": [
       "<Figure size 432x288 with 1 Axes>"
      ]
     },
     "metadata": {
      "needs_background": "light"
     },
     "output_type": "display_data"
    }
   ],
   "source": [
    "# create a line graph of current totals and projections\n",
    "year = [2018, '2020 (projected)', '2025(projected)']\n",
    "consumption = [country_proj.total, country_proj['2020projection'], country_proj['2025projection']]\n",
    "country = country_proj.country\n",
    "plt.plot(year, consumption, label=country)\n",
    "plt.xlabel('Current and Projection Consumption')\n",
    "plt.ylabel('Consumption')\n",
    "plt.legend(country, loc='upper center', bbox_to_anchor=(1.25, 0.8))"
   ]
  },
  {
   "cell_type": "markdown",
   "metadata": {},
   "source": [
    "##### I found it interesting in this graph that while most countries stayed fairly level or had a slight increase projected, Germany, France and Italy all had projected declines. I would be interested to see why those were projected to decline and how the actual data compares for those years after it is collected."
   ]
  },
  {
   "cell_type": "markdown",
   "metadata": {},
   "source": [
    "##### For my final graphical analysis, I chose to do a stacked bar to compare totals and then beer vs. wine within them.  This is different than the previous breakdown by type of alcohol as that was percent of consumption while this is actual consumption amount of each and this data was only available for beer and wine, not spirits or other.  I used my small subset of countries again and then also did a graph by region rather than country."
   ]
  },
  {
   "cell_type": "code",
   "execution_count": 31,
   "metadata": {},
   "outputs": [
    {
     "data": {
      "text/html": [
       "<div>\n",
       "<style scoped>\n",
       "    .dataframe tbody tr th:only-of-type {\n",
       "        vertical-align: middle;\n",
       "    }\n",
       "\n",
       "    .dataframe tbody tr th {\n",
       "        vertical-align: top;\n",
       "    }\n",
       "\n",
       "    .dataframe thead th {\n",
       "        text-align: right;\n",
       "    }\n",
       "</style>\n",
       "<table border=\"1\" class=\"dataframe\">\n",
       "  <thead>\n",
       "    <tr style=\"text-align: right;\">\n",
       "      <th></th>\n",
       "      <th>country</th>\n",
       "      <th>beer_percapita</th>\n",
       "      <th>wine_percapita</th>\n",
       "    </tr>\n",
       "  </thead>\n",
       "  <tbody>\n",
       "    <tr>\n",
       "      <th>0</th>\n",
       "      <td>Canada</td>\n",
       "      <td>240</td>\n",
       "      <td>100</td>\n",
       "    </tr>\n",
       "    <tr>\n",
       "      <th>1</th>\n",
       "      <td>United States</td>\n",
       "      <td>249</td>\n",
       "      <td>84</td>\n",
       "    </tr>\n",
       "    <tr>\n",
       "      <th>2</th>\n",
       "      <td>Germany</td>\n",
       "      <td>346</td>\n",
       "      <td>175</td>\n",
       "    </tr>\n",
       "    <tr>\n",
       "      <th>3</th>\n",
       "      <td>Ireland</td>\n",
       "      <td>313</td>\n",
       "      <td>165</td>\n",
       "    </tr>\n",
       "    <tr>\n",
       "      <th>4</th>\n",
       "      <td>Mexico</td>\n",
       "      <td>238</td>\n",
       "      <td>5</td>\n",
       "    </tr>\n",
       "    <tr>\n",
       "      <th>5</th>\n",
       "      <td>United Kingdom</td>\n",
       "      <td>219</td>\n",
       "      <td>195</td>\n",
       "    </tr>\n",
       "    <tr>\n",
       "      <th>6</th>\n",
       "      <td>France</td>\n",
       "      <td>127</td>\n",
       "      <td>370</td>\n",
       "    </tr>\n",
       "    <tr>\n",
       "      <th>7</th>\n",
       "      <td>Italy</td>\n",
       "      <td>85</td>\n",
       "      <td>237</td>\n",
       "    </tr>\n",
       "  </tbody>\n",
       "</table>\n",
       "</div>"
      ],
      "text/plain": [
       "          country  beer_percapita  wine_percapita\n",
       "0          Canada             240             100\n",
       "1   United States             249              84\n",
       "2         Germany             346             175\n",
       "3         Ireland             313             165\n",
       "4          Mexico             238               5\n",
       "5  United Kingdom             219             195\n",
       "6          France             127             370\n",
       "7           Italy              85             237"
      ]
     },
     "execution_count": 31,
     "metadata": {},
     "output_type": "execute_result"
    }
   ],
   "source": [
    "# Select beer and wine totals by country\n",
    "country_type= pd.read_sql('''Select country, beer_percapita, wine_percapita FROM Consumption WHERE country IN (\"United States\", \"Italy\", \"Germany\", \"Ireland\", \"United Kingdom\", \"France\", \"Canada\", \"Mexico\")''', conn)\n",
    "country_type"
   ]
  },
  {
   "cell_type": "code",
   "execution_count": 32,
   "metadata": {},
   "outputs": [
    {
     "data": {
      "image/png": "[encoded data removed]",
      "text/plain": [
       "<Figure size 432x288 with 1 Axes>"
      ]
     },
     "metadata": {
      "needs_background": "light"
     },
     "output_type": "display_data"
    }
   ],
   "source": [
    "# plot bars in stack manner\n",
    "x = country_type.country\n",
    "y1 = country_type.beer_percapita\n",
    "y2 = country_type.wine_percapita\n",
    "\n",
    "plt.bar(x, y1, color='b')\n",
    "plt.bar(x, y2, bottom=y1, color='r')\n",
    "\n",
    "plt.xlabel(\"Country\")\n",
    "plt.ylabel(\"Score\")\n",
    "plt.legend([\"Beer\", \"Wine\"])\n",
    "plt.title(\"Beer, Wine and Total Consumption by Country\")\n",
    "figsize=(30,5)\n",
    "plt.xticks(rotation=75)\n",
    "plt.show()"
   ]
  },
  {
   "cell_type": "code",
   "execution_count": 33,
   "metadata": {},
   "outputs": [
    {
     "data": {
      "text/plain": [
       "['Australia and New Zealand',\n",
       " 'Central and Eastern Europe',\n",
       " 'Eastern Asia',\n",
       " 'Latin America and Caribbean',\n",
       " 'Middle East and Northern Africa',\n",
       " 'North America',\n",
       " 'Southeastern Asia',\n",
       " 'Sub-Saharan Africa',\n",
       " 'Western Europe']"
      ]
     },
     "execution_count": 33,
     "metadata": {},
     "output_type": "execute_result"
    }
   ],
   "source": [
    "# group countries by region and select total beer and wine consumption\n",
    "c.row_factory = lambda cursor, row: row[0]\n",
    "c.execute(\"Select region, SUM(beer_percapita), SUM(wine_percapita) FROM Consumption GROUP BY region\")\n",
    "region = c.fetchall()\n",
    "region"
   ]
  },
  {
   "cell_type": "code",
   "execution_count": 34,
   "metadata": {},
   "outputs": [
    {
     "data": {
      "text/plain": [
       "[464, 4592, 373, 3668, 273, 489, 398, 2197, 4329]"
      ]
     },
     "execution_count": 34,
     "metadata": {},
     "output_type": "execute_result"
    }
   ],
   "source": [
    "# group countries by region and select total beer and wine consumption\n",
    "c.row_factory = lambda cursor, row: row[0]\n",
    "c.execute(\"Select SUM(beer_percapita) FROM Consumption GROUP BY region\")\n",
    "reg_beer = c.fetchall()\n",
    "reg_beer"
   ]
  },
  {
   "cell_type": "code",
   "execution_count": 35,
   "metadata": {},
   "outputs": [
    {
     "data": {
      "text/plain": [
       "[387, 2263, 41, 823, 114, 184, 15, 342, 3956]"
      ]
     },
     "execution_count": 35,
     "metadata": {},
     "output_type": "execute_result"
    }
   ],
   "source": [
    "# group countries by region and select total beer and wine consumption\n",
    "c.row_factory = lambda cursor, row: row[0]\n",
    "c.execute(\"Select SUM(wine_percapita) FROM Consumption GROUP BY region\")\n",
    "reg_wine = c.fetchall()\n",
    "reg_wine"
   ]
  },
  {
   "cell_type": "code",
   "execution_count": 37,
   "metadata": {},
   "outputs": [
    {
     "data": {
      "image/png": "[encoded data removed]",
      "text/plain": [
       "<Figure size 432x288 with 1 Axes>"
      ]
     },
     "metadata": {
      "needs_background": "light"
     },
     "output_type": "display_data"
    }
   ],
   "source": [
    "# plot bars in stack manner\n",
    "\n",
    "# create data\n",
    "\n",
    "x = region\n",
    "y1 = reg_beer\n",
    "y2 = reg_wine\n",
    "\n",
    "plt.bar(x, y1, color='b')\n",
    "plt.bar(x, y2, bottom=y1, color='r')\n",
    "\n",
    "plt.xlabel(\"Region\")\n",
    "plt.ylabel(\"Total Consumption\")\n",
    "plt.legend([\"Beer\", \"Wine\"])\n",
    "plt.title(\"Beer, Wine and Total Consumption by Region\")\n",
    "figsize=(30,10)\n",
    "plt.xticks(rotation=80)\n",
    "plt.show()"
   ]
  },
  {
   "cell_type": "markdown",
   "metadata": {},
   "source": [
    "##### Again we see European countries displaying higher consumption overall and also see more wine consumption there than all other regions."
   ]
  },
  {
   "cell_type": "markdown",
   "metadata": {},
   "source": [
    "##### I'm thinking there may be a way to do this with less steps than I have done to create each list for the graph, this is something I will continue to explore"
   ]
  },
  {
   "cell_type": "code",
   "execution_count": null,
   "metadata": {},
   "outputs": [],
   "source": []
  }
 ],
 "metadata": {
  "kernelspec": {
   "display_name": "Python 3",
   "language": "python",
   "name": "python3"
  },
  "language_info": {
   "codemirror_mode": {
    "name": "ipython",
    "version": 3
   },
   "file_extension": ".py",
   "mimetype": "text/x-python",
   "name": "python",
   "nbconvert_exporter": "python",
   "pygments_lexer": "ipython3",
   "version": "3.8.5"
  }
 },
 "nbformat": 4,
 "nbformat_minor": 4
}
